{
 "cells": [
  {
   "cell_type": "markdown",
   "metadata": {
    "id": "p3-K-6-MakpC"
   },
   "source": [
    "<h1 align=\"center\"> GRADED ASSIGNMENT</h1>\n",
    "\n",
    "<div>\n",
    "<td> \n",
    "<img src=\"https://upload.wikimedia.org/wikipedia/commons/thumb/2/2b/Logo_Universit%C3%A9_de_Lausanne.svg/2000px-Logo_Universit%C3%A9_de_Lausanne.svg.png\" style=\"padding-right:10px;width:240px;float:left\"/></td>\n",
    "<h2 style=\"white-space: nowrap\">Business Intelligence and Analytics</h2></td>\n",
    "<hr style=\"clear:both\">\n",
    "<p style=\"font-size:0.85em; margin:2px; text-align:justify\">\n",
    "\n",
    "</div>"
   ]
  },
  {
   "cell_type": "markdown",
   "metadata": {
    "id": "fqhjIaf-moHf"
   },
   "source": [
    "Welcome to the Assignment! \n",
    "\n",
    "This notebooks contains two **independent** tasks. You will have to complete both tasks to receive a grade.\n",
    "- The first task is about a Youtube video dataset.\n",
    "- The second task is about a financial dataset on credit information of clients\n",
    "\n",
    "In each part, we will provide you with a set of questions. You will have to answer these questions by writing code in the corresponding cells before ansering the quiz questions on Moodle.\n",
    "Then, you will have to perform the following two steps:\n",
    "- Answer the quiz questions on Moodle.\n",
    "- Submit this notebook on Moodle\n",
    "\n",
    "Make sure to follow all instructions carefully.\n",
    "\n",
    "Good luck! 🍀\n",
    "\n",
    "**Note**: Have your notebook with the answers ready for answering the quiz. \n",
    "\n",
    "**Questions**: You can post your questions in Moodle in the dedicated forum. No questions will be answered by email.\n",
    "\n",
    "When creating a question, please make sure to provide a clear description of your problem and the code you have already tried.\n",
    "\n",
    "Also in the object  of the message, use the following format: Part X - Question Y.Z where :\n",
    "- X is the part number,\n",
    "- Y is the question number\n",
    "- Z is the sub-question number."
   ]
  },
  {
   "cell_type": "markdown",
   "metadata": {
    "id": "s9syfj48o8JA"
   },
   "source": [
    "## PART I - DATA CLEANING AND EXPLORATION\n",
    "First a few preliminary steps to set you up. You can execute the cells below to get you started."
   ]
  },
  {
   "cell_type": "code",
   "execution_count": 102,
   "metadata": {
    "id": "KbBjnc2xmnDW"
   },
   "outputs": [],
   "source": [
    "# Import required packages\n",
    "# You should not need additonal packages for this part but you can import any package you want\n",
    "\n",
    "import pandas as pd\n",
    "import numpy as np\n",
    "import matplotlib.pyplot as plt\n",
    "import seaborn as sns\n",
    "\n",
    "%matplotlib inline\n",
    "sns.set_style('darkgrid')\n",
    "\n",
    "# Do not change the following line\n",
    "pd.set_option('display.float_format', lambda x: '%.2f' % x)"
   ]
  },
  {
   "cell_type": "code",
   "execution_count": 103,
   "metadata": {
    "id": "0_wreS36akpJ"
   },
   "outputs": [
    {
     "data": {
      "text/html": [
       "<div>\n",
       "<style scoped>\n",
       "    .dataframe tbody tr th:only-of-type {\n",
       "        vertical-align: middle;\n",
       "    }\n",
       "\n",
       "    .dataframe tbody tr th {\n",
       "        vertical-align: top;\n",
       "    }\n",
       "\n",
       "    .dataframe thead th {\n",
       "        text-align: right;\n",
       "    }\n",
       "</style>\n",
       "<table border=\"1\" class=\"dataframe\">\n",
       "  <thead>\n",
       "    <tr style=\"text-align: right;\">\n",
       "      <th></th>\n",
       "      <th>channel</th>\n",
       "      <th>upload_date</th>\n",
       "      <th>title</th>\n",
       "      <th>tags</th>\n",
       "      <th>duration</th>\n",
       "      <th>view_count</th>\n",
       "      <th>average_rating</th>\n",
       "      <th>height</th>\n",
       "      <th>width</th>\n",
       "      <th>channel_cat</th>\n",
       "    </tr>\n",
       "  </thead>\n",
       "  <tbody>\n",
       "    <tr>\n",
       "      <th>0</th>\n",
       "      <td>PewDiePie</td>\n",
       "      <td>2013-03-04</td>\n",
       "      <td>A NEW ADVENTURE! - Kingdom Hearts (1) w/ Pewds</td>\n",
       "      <td>['lets', 'play', 'horror', 'game', 'walkthroug...</td>\n",
       "      <td>1126.00</td>\n",
       "      <td>2541550.00</td>\n",
       "      <td>4.89</td>\n",
       "      <td>720.00</td>\n",
       "      <td>1280.00</td>\n",
       "      <td>Gaming</td>\n",
       "    </tr>\n",
       "    <tr>\n",
       "      <th>1</th>\n",
       "      <td>PewDiePie</td>\n",
       "      <td>2013-03-04</td>\n",
       "      <td>SAVING PRIVATE PEWDS - Conker's Bad Fur Day (15)</td>\n",
       "      <td>['lets', 'play', 'horror', 'game', 'walkthroug...</td>\n",
       "      <td>903.00</td>\n",
       "      <td>1727646.00</td>\n",
       "      <td>4.95</td>\n",
       "      <td>720.00</td>\n",
       "      <td>1280.00</td>\n",
       "      <td>Gaming</td>\n",
       "    </tr>\n",
       "    <tr>\n",
       "      <th>2</th>\n",
       "      <td>PewDiePie</td>\n",
       "      <td>2013-03-04</td>\n",
       "      <td>THE WORST SCARE! - Amnesia: Rain (4)</td>\n",
       "      <td>['lets', 'play', 'horror', 'game', 'walkthroug...</td>\n",
       "      <td>806.00</td>\n",
       "      <td>1402747.00</td>\n",
       "      <td>4.96</td>\n",
       "      <td>720.00</td>\n",
       "      <td>1280.00</td>\n",
       "      <td>Gaming</td>\n",
       "    </tr>\n",
       "    <tr>\n",
       "      <th>3</th>\n",
       "      <td>PewDiePie</td>\n",
       "      <td>2013-03-03</td>\n",
       "      <td>Nova / Sp00n / Cry / Pewds - Worms Revolution ...</td>\n",
       "      <td>['lets', 'play', 'horror', 'game', 'walkthroug...</td>\n",
       "      <td>909.00</td>\n",
       "      <td>4348296.00</td>\n",
       "      <td>4.94</td>\n",
       "      <td>720.00</td>\n",
       "      <td>1280.00</td>\n",
       "      <td>Gaming</td>\n",
       "    </tr>\n",
       "    <tr>\n",
       "      <th>4</th>\n",
       "      <td>PewDiePie</td>\n",
       "      <td>2013-03-03</td>\n",
       "      <td>SEXIEST HORROR EVER - Amnesia: Rain (3)</td>\n",
       "      <td>['lets', 'play', 'horror', 'game', 'walkthroug...</td>\n",
       "      <td>834.00</td>\n",
       "      <td>1410659.00</td>\n",
       "      <td>4.96</td>\n",
       "      <td>720.00</td>\n",
       "      <td>1280.00</td>\n",
       "      <td>Gaming</td>\n",
       "    </tr>\n",
       "    <tr>\n",
       "      <th>...</th>\n",
       "      <td>...</td>\n",
       "      <td>...</td>\n",
       "      <td>...</td>\n",
       "      <td>...</td>\n",
       "      <td>...</td>\n",
       "      <td>...</td>\n",
       "      <td>...</td>\n",
       "      <td>...</td>\n",
       "      <td>...</td>\n",
       "      <td>...</td>\n",
       "    </tr>\n",
       "    <tr>\n",
       "      <th>139502</th>\n",
       "      <td>cutepolish</td>\n",
       "      <td>2010-02-23</td>\n",
       "      <td>Easy Bride Wedding Nails</td>\n",
       "      <td>['easy', 'makeup', 'beauty', 'fashion']</td>\n",
       "      <td>201.00</td>\n",
       "      <td>284147.00</td>\n",
       "      <td>4.61</td>\n",
       "      <td>480.00</td>\n",
       "      <td>640.00</td>\n",
       "      <td>Howto &amp; Style</td>\n",
       "    </tr>\n",
       "    <tr>\n",
       "      <th>139503</th>\n",
       "      <td>cutepolish</td>\n",
       "      <td>2010-02-22</td>\n",
       "      <td>Purple Flower Nails</td>\n",
       "      <td>['easy', 'makeup', 'beauty', 'fashion', 'tutor...</td>\n",
       "      <td>180.00</td>\n",
       "      <td>136278.00</td>\n",
       "      <td>4.64</td>\n",
       "      <td>480.00</td>\n",
       "      <td>640.00</td>\n",
       "      <td>Howto &amp; Style</td>\n",
       "    </tr>\n",
       "    <tr>\n",
       "      <th>139504</th>\n",
       "      <td>cutepolish</td>\n",
       "      <td>2010-02-21</td>\n",
       "      <td>Domo Kun Nails</td>\n",
       "      <td>['easy', 'makeup', 'beauty', 'fashion']</td>\n",
       "      <td>277.00</td>\n",
       "      <td>228384.00</td>\n",
       "      <td>4.84</td>\n",
       "      <td>480.00</td>\n",
       "      <td>640.00</td>\n",
       "      <td>Howto &amp; Style</td>\n",
       "    </tr>\n",
       "    <tr>\n",
       "      <th>139505</th>\n",
       "      <td>cutepolish</td>\n",
       "      <td>2010-02-20</td>\n",
       "      <td>Easy Plaid Nails</td>\n",
       "      <td>['easy', 'makeup', 'beauty', 'fashion']</td>\n",
       "      <td>174.00</td>\n",
       "      <td>247053.00</td>\n",
       "      <td>4.86</td>\n",
       "      <td>480.00</td>\n",
       "      <td>640.00</td>\n",
       "      <td>Howto &amp; Style</td>\n",
       "    </tr>\n",
       "    <tr>\n",
       "      <th>139506</th>\n",
       "      <td>cutepolish</td>\n",
       "      <td>2010-02-20</td>\n",
       "      <td>Hime Gyaru Nails</td>\n",
       "      <td>['makeup', 'beauty', 'fashion']</td>\n",
       "      <td>329.00</td>\n",
       "      <td>331964.00</td>\n",
       "      <td>4.46</td>\n",
       "      <td>480.00</td>\n",
       "      <td>640.00</td>\n",
       "      <td>Howto &amp; Style</td>\n",
       "    </tr>\n",
       "  </tbody>\n",
       "</table>\n",
       "<p>139507 rows × 10 columns</p>\n",
       "</div>"
      ],
      "text/plain": [
       "           channel upload_date  \\\n",
       "0        PewDiePie  2013-03-04   \n",
       "1        PewDiePie  2013-03-04   \n",
       "2        PewDiePie  2013-03-04   \n",
       "3        PewDiePie  2013-03-03   \n",
       "4        PewDiePie  2013-03-03   \n",
       "...            ...         ...   \n",
       "139502  cutepolish  2010-02-23   \n",
       "139503  cutepolish  2010-02-22   \n",
       "139504  cutepolish  2010-02-21   \n",
       "139505  cutepolish  2010-02-20   \n",
       "139506  cutepolish  2010-02-20   \n",
       "\n",
       "                                                    title  \\\n",
       "0          A NEW ADVENTURE! - Kingdom Hearts (1) w/ Pewds   \n",
       "1        SAVING PRIVATE PEWDS - Conker's Bad Fur Day (15)   \n",
       "2                    THE WORST SCARE! - Amnesia: Rain (4)   \n",
       "3       Nova / Sp00n / Cry / Pewds - Worms Revolution ...   \n",
       "4                 SEXIEST HORROR EVER - Amnesia: Rain (3)   \n",
       "...                                                   ...   \n",
       "139502                           Easy Bride Wedding Nails   \n",
       "139503                                Purple Flower Nails   \n",
       "139504                                     Domo Kun Nails   \n",
       "139505                                   Easy Plaid Nails   \n",
       "139506                                   Hime Gyaru Nails   \n",
       "\n",
       "                                                     tags  duration  \\\n",
       "0       ['lets', 'play', 'horror', 'game', 'walkthroug...   1126.00   \n",
       "1       ['lets', 'play', 'horror', 'game', 'walkthroug...    903.00   \n",
       "2       ['lets', 'play', 'horror', 'game', 'walkthroug...    806.00   \n",
       "3       ['lets', 'play', 'horror', 'game', 'walkthroug...    909.00   \n",
       "4       ['lets', 'play', 'horror', 'game', 'walkthroug...    834.00   \n",
       "...                                                   ...       ...   \n",
       "139502            ['easy', 'makeup', 'beauty', 'fashion']    201.00   \n",
       "139503  ['easy', 'makeup', 'beauty', 'fashion', 'tutor...    180.00   \n",
       "139504            ['easy', 'makeup', 'beauty', 'fashion']    277.00   \n",
       "139505            ['easy', 'makeup', 'beauty', 'fashion']    174.00   \n",
       "139506                    ['makeup', 'beauty', 'fashion']    329.00   \n",
       "\n",
       "        view_count  average_rating  height   width    channel_cat  \n",
       "0       2541550.00            4.89  720.00 1280.00         Gaming  \n",
       "1       1727646.00            4.95  720.00 1280.00         Gaming  \n",
       "2       1402747.00            4.96  720.00 1280.00         Gaming  \n",
       "3       4348296.00            4.94  720.00 1280.00         Gaming  \n",
       "4       1410659.00            4.96  720.00 1280.00         Gaming  \n",
       "...            ...             ...     ...     ...            ...  \n",
       "139502   284147.00            4.61  480.00  640.00  Howto & Style  \n",
       "139503   136278.00            4.64  480.00  640.00  Howto & Style  \n",
       "139504   228384.00            4.84  480.00  640.00  Howto & Style  \n",
       "139505   247053.00            4.86  480.00  640.00  Howto & Style  \n",
       "139506   331964.00            4.46  480.00  640.00  Howto & Style  \n",
       "\n",
       "[139507 rows x 10 columns]"
      ]
     },
     "execution_count": 103,
     "metadata": {},
     "output_type": "execute_result"
    }
   ],
   "source": [
    "pd.read_csv('https://storage.googleapis.com/bia-assignment/youtube.csv')"
   ]
  },
  {
   "cell_type": "code",
   "execution_count": 104,
   "metadata": {
    "id": "NrlTbxuWpLn8"
   },
   "outputs": [
    {
     "data": {
      "text/html": [
       "<div>\n",
       "<style scoped>\n",
       "    .dataframe tbody tr th:only-of-type {\n",
       "        vertical-align: middle;\n",
       "    }\n",
       "\n",
       "    .dataframe tbody tr th {\n",
       "        vertical-align: top;\n",
       "    }\n",
       "\n",
       "    .dataframe thead th {\n",
       "        text-align: right;\n",
       "    }\n",
       "</style>\n",
       "<table border=\"1\" class=\"dataframe\">\n",
       "  <thead>\n",
       "    <tr style=\"text-align: right;\">\n",
       "      <th></th>\n",
       "      <th>channel</th>\n",
       "      <th>upload_date</th>\n",
       "      <th>title</th>\n",
       "      <th>tags</th>\n",
       "      <th>duration</th>\n",
       "      <th>view_count</th>\n",
       "      <th>average_rating</th>\n",
       "      <th>height</th>\n",
       "      <th>width</th>\n",
       "      <th>channel_cat</th>\n",
       "    </tr>\n",
       "  </thead>\n",
       "  <tbody>\n",
       "    <tr>\n",
       "      <th>101598</th>\n",
       "      <td>Hong Giang DIY Slime</td>\n",
       "      <td>2019-10-03</td>\n",
       "      <td>Mixing Random Things into Slime! Relaxing with...</td>\n",
       "      <td>[]</td>\n",
       "      <td>730.00</td>\n",
       "      <td>99632.00</td>\n",
       "      <td>4.24</td>\n",
       "      <td>1080.00</td>\n",
       "      <td>1920.00</td>\n",
       "      <td>Howto &amp; Style</td>\n",
       "    </tr>\n",
       "    <tr>\n",
       "      <th>107247</th>\n",
       "      <td>Kabita's Kitchen</td>\n",
       "      <td>2019-10-03</td>\n",
       "      <td>डिजिटल समोसा | Noodles Samosa | Chinese Samosa...</td>\n",
       "      <td>[]</td>\n",
       "      <td>628.00</td>\n",
       "      <td>65919.00</td>\n",
       "      <td>4.86</td>\n",
       "      <td>1080.00</td>\n",
       "      <td>1920.00</td>\n",
       "      <td>Howto &amp; Style</td>\n",
       "    </tr>\n",
       "    <tr>\n",
       "      <th>105473</th>\n",
       "      <td>Grandpa Kitchen</td>\n",
       "      <td>2019-10-03</td>\n",
       "      <td>Grandpa LIVE</td>\n",
       "      <td>[]</td>\n",
       "      <td>180.00</td>\n",
       "      <td>722915.00</td>\n",
       "      <td>4.96</td>\n",
       "      <td>1080.00</td>\n",
       "      <td>1920.00</td>\n",
       "      <td>Howto &amp; Style</td>\n",
       "    </tr>\n",
       "  </tbody>\n",
       "</table>\n",
       "</div>"
      ],
      "text/plain": [
       "                     channel upload_date  \\\n",
       "101598  Hong Giang DIY Slime  2019-10-03   \n",
       "107247      Kabita's Kitchen  2019-10-03   \n",
       "105473       Grandpa Kitchen  2019-10-03   \n",
       "\n",
       "                                                    title tags  duration  \\\n",
       "101598  Mixing Random Things into Slime! Relaxing with...   []    730.00   \n",
       "107247  डिजिटल समोसा | Noodles Samosa | Chinese Samosa...   []    628.00   \n",
       "105473                                       Grandpa LIVE   []    180.00   \n",
       "\n",
       "        view_count  average_rating  height   width    channel_cat  \n",
       "101598    99632.00            4.24 1080.00 1920.00  Howto & Style  \n",
       "107247    65919.00            4.86 1080.00 1920.00  Howto & Style  \n",
       "105473   722915.00            4.96 1080.00 1920.00  Howto & Style  "
      ]
     },
     "execution_count": 104,
     "metadata": {},
     "output_type": "execute_result"
    }
   ],
   "source": [
    "# Load the data\n",
    "df = pd.read_csv('https://storage.googleapis.com/bia-assignment/youtube.csv')\n",
    "\n",
    "# Visualise first 3 rows\n",
    "df.sort_values(by='upload_date', ascending=False).head(3)"
   ]
  },
  {
   "cell_type": "markdown",
   "metadata": {
    "id": "JUy85CCApovj"
   },
   "source": [
    "This Youtube dataset contains informations about multiple videos uploaded on youtube.\n",
    "- **channel** : the channel id of that has uploaded the video\n",
    "- **upload_date** : the date when the video has been uploaded on Youtube\n",
    "- **title** : the title of the video\n",
    "- **tags** : a list of tags that the author of the video has allocated to its video \n",
    "- **duration** : the duration of the video in seconds\n",
    "- **view_count** : the number of views of a video\n",
    "- **average_rating** : the average rating of the video when the metadata have been extracted\n",
    "- **height, width** : the maxinal resolution of the video\n",
    "- **channel_cat** : the category to which the channel belongs"
   ]
  },
  {
   "cell_type": "markdown",
   "metadata": {
    "id": "Af0rd8CPrg_r"
   },
   "source": [
    "### Question 1. How many observations (rows) and columns does the dataset contain?\n",
    "Print the number of rows and colums of the dataset."
   ]
  },
  {
   "cell_type": "code",
   "execution_count": 105,
   "metadata": {
    "id": "7HOzM_sJrgRM"
   },
   "outputs": [
    {
     "name": "stdout",
     "output_type": "stream",
     "text": [
      "Number of rows: \t139507\n",
      "Number of columns: \t10\n"
     ]
    }
   ],
   "source": [
    "nb_rows = df.shape[0]\n",
    "nb_cols = df.shape[1]\n",
    "print('Number of rows: ', nb_rows, sep='\\t')\n",
    "print('Number of columns: ', nb_cols, sep='\\t')"
   ]
  },
  {
   "cell_type": "markdown",
   "metadata": {
    "id": "bUoTjOmOs5Ew"
   },
   "source": [
    "Print the number of null values in each column"
   ]
  },
  {
   "cell_type": "code",
   "execution_count": 106,
   "metadata": {
    "id": "sQ2RQJ8hakpM"
   },
   "outputs": [
    {
     "data": {
      "text/plain": [
       "channel           0\n",
       "upload_date       0\n",
       "title             0\n",
       "tags              0\n",
       "duration          0\n",
       "view_count        0\n",
       "average_rating    0\n",
       "height            0\n",
       "width             0\n",
       "channel_cat       0\n",
       "dtype: int64"
      ]
     },
     "execution_count": 106,
     "metadata": {},
     "output_type": "execute_result"
    }
   ],
   "source": [
    "df.isnull().sum()"
   ]
  },
  {
   "cell_type": "markdown",
   "metadata": {
    "id": "tJEc33y9akpM"
   },
   "source": [
    "Now please check what are the data types of the different attributes (columns)."
   ]
  },
  {
   "cell_type": "code",
   "execution_count": 107,
   "metadata": {
    "id": "y5mbuGOitC-5"
   },
   "outputs": [
    {
     "data": {
      "text/plain": [
       "channel            object\n",
       "upload_date        object\n",
       "title              object\n",
       "tags               object\n",
       "duration          float64\n",
       "view_count        float64\n",
       "average_rating    float64\n",
       "height            float64\n",
       "width             float64\n",
       "channel_cat        object\n",
       "dtype: object"
      ]
     },
     "execution_count": 107,
     "metadata": {},
     "output_type": "execute_result"
    }
   ],
   "source": [
    "df.dtypes"
   ]
  },
  {
   "cell_type": "markdown",
   "metadata": {
    "id": "zGb2GIUWtX8p"
   },
   "source": [
    "Change the data type for the following columns: upload_date.\n",
    "It should now be a date.\n",
    "\n",
    "**Hint**: make sure that days, month, year are encoded correctly. For this you can check what the date looks like before and after the encoding. "
   ]
  },
  {
   "cell_type": "code",
   "execution_count": 108,
   "metadata": {
    "id": "PpxVbbuQttyn"
   },
   "outputs": [
    {
     "name": "stdout",
     "output_type": "stream",
     "text": [
      "channel                   object\n",
      "upload_date       datetime64[ns]\n",
      "title                     object\n",
      "tags                      object\n",
      "duration                 float64\n",
      "view_count               float64\n",
      "average_rating           float64\n",
      "height                   float64\n",
      "width                    float64\n",
      "channel_cat               object\n",
      "dtype: object\n"
     ]
    }
   ],
   "source": [
    "# YOUR CODE HERE\n",
    "df['upload_date'] = pd.to_datetime(df['upload_date'], format='%Y-%m-%d')\n",
    "print(df.dtypes)"
   ]
  },
  {
   "cell_type": "markdown",
   "metadata": {
    "id": "O-tRXMTWvVBi"
   },
   "source": [
    "### Question 2. For which order period have these data samples been collected?"
   ]
  },
  {
   "cell_type": "markdown",
   "metadata": {
    "id": "PwOgds70akpO"
   },
   "source": [
    "#### Question 2.1: What is the upload date of the oldest video ? and of the most recent video ?"
   ]
  },
  {
   "cell_type": "code",
   "execution_count": 109,
   "metadata": {
    "id": "ikVQNUBzveL5"
   },
   "outputs": [
    {
     "name": "stdout",
     "output_type": "stream",
     "text": [
      "The minimum upload date is 2005-12-28 00:00:00\n",
      "The maximum upload date is 2019-10-03 00:00:00\n"
     ]
    }
   ],
   "source": [
    "min_date = min(df['upload_date'])\n",
    "max_date = max(df['upload_date'])\n",
    "print(f\"The minimum upload date is {min_date}\")\n",
    "print(f\"The maximum upload date is {max_date}\")"
   ]
  },
  {
   "cell_type": "markdown",
   "metadata": {
    "id": "eE2zhqdBakpO"
   },
   "source": [
    "#### Question 2.2: What is the view count of the oldest video? and of the newest video?\n",
    "**Note:** In case there are multiple videos with the same upload date, you can take the one with the maximum view count."
   ]
  },
  {
   "cell_type": "code",
   "execution_count": 110,
   "metadata": {
    "id": "X-UakkXSakpO"
   },
   "outputs": [
    {
     "name": "stdout",
     "output_type": "stream",
     "text": [
      "The oldest video has 517076.0 views\n",
      "The most recent video has 722915.0 views\n"
     ]
    }
   ],
   "source": [
    "oldest_video_view = max(df[df.upload_date == min_date].view_count)\n",
    "print(f\"The oldest video has {oldest_video_view} views\")\n",
    "\n",
    "most_recent_video_view = max(df[df.upload_date == max_date].view_count)\n",
    "print(f\"The most recent video has {most_recent_video_view} views\")"
   ]
  },
  {
   "cell_type": "markdown",
   "metadata": {
    "id": "s5icPwziwAym"
   },
   "source": [
    "### Question 3. Categories analysis"
   ]
  },
  {
   "cell_type": "markdown",
   "metadata": {
    "id": "3lz2-Mu1akpP"
   },
   "source": [
    "#### Question 3.1: What are the average view count and total view count per category (\"Gaming\" and \"Howto & Stlye\") ?\n",
    "**Hint**: Use the [`group_by()`](https://pandas.pydata.org/pandas-docs/stable/reference/api/pandas.DataFrame.groupby.html) function and refer to its documentation for examples on how to use it. The function `group_by()` is used to group the data by a certain column and is then followed by an aggregation function such as `sum()` or `mean()` which will be applied to the grouped data.\n",
    "For example, to get the average income per country, you can use the following code:\n",
    "```python\n",
    "```python\n",
    "df.groupby('country')['income'].mean()\n",
    "```\n",
    "\n",
    "Or if you want to get different statistics for different columns, you can use the following code:\n",
    "```python\n",
    "df.groupby('country').agg({'population': 'sum', 'income': ['mean', 'sdt']})\n",
    "```\n",
    "This will return a dataframe with the sum of the population and the mean and standard deviation of the average income per country."
   ]
  },
  {
   "cell_type": "code",
   "execution_count": 111,
   "metadata": {
    "id": "7IRv8Vwpwvzt"
   },
   "outputs": [
    {
     "data": {
      "text/html": [
       "<div>\n",
       "<style scoped>\n",
       "    .dataframe tbody tr th:only-of-type {\n",
       "        vertical-align: middle;\n",
       "    }\n",
       "\n",
       "    .dataframe tbody tr th {\n",
       "        vertical-align: top;\n",
       "    }\n",
       "\n",
       "    .dataframe thead tr th {\n",
       "        text-align: left;\n",
       "    }\n",
       "\n",
       "    .dataframe thead tr:last-of-type th {\n",
       "        text-align: right;\n",
       "    }\n",
       "</style>\n",
       "<table border=\"1\" class=\"dataframe\">\n",
       "  <thead>\n",
       "    <tr>\n",
       "      <th></th>\n",
       "      <th colspan=\"2\" halign=\"left\">view_count</th>\n",
       "    </tr>\n",
       "    <tr>\n",
       "      <th></th>\n",
       "      <th>mean</th>\n",
       "      <th>sum</th>\n",
       "    </tr>\n",
       "    <tr>\n",
       "      <th>channel_cat</th>\n",
       "      <th></th>\n",
       "      <th></th>\n",
       "    </tr>\n",
       "  </thead>\n",
       "  <tbody>\n",
       "    <tr>\n",
       "      <th>Gaming</th>\n",
       "      <td>1632725.35</td>\n",
       "      <td>135986429274.00</td>\n",
       "    </tr>\n",
       "    <tr>\n",
       "      <th>Howto &amp; Style</th>\n",
       "      <td>1538505.55</td>\n",
       "      <td>86493243255.00</td>\n",
       "    </tr>\n",
       "  </tbody>\n",
       "</table>\n",
       "</div>"
      ],
      "text/plain": [
       "              view_count                \n",
       "                    mean             sum\n",
       "channel_cat                             \n",
       "Gaming        1632725.35 135986429274.00\n",
       "Howto & Style 1538505.55  86493243255.00"
      ]
     },
     "execution_count": 111,
     "metadata": {},
     "output_type": "execute_result"
    }
   ],
   "source": [
    "df.groupby('channel_cat').agg({'view_count': ['mean', 'sum']})"
   ]
  },
  {
   "cell_type": "markdown",
   "metadata": {
    "id": "OzbJrqELakpP"
   },
   "source": [
    "#### Question 3.2: On one graph, plot monthly views for each channel category with a lineplot.\n",
    "**Hint:** You may want to add new columns such as month and year and then do a groupy on these two columns by for the plot. Alternatively, another option is to use the [`resample()`](https://pandas.pydata.org/pandas-docs/stable/reference/api/pandas.DataFrame.resample.html) function."
   ]
  },
  {
   "cell_type": "code",
   "execution_count": 113,
   "metadata": {
    "id": "0BtPRgzcakpQ"
   },
   "outputs": [],
   "source": [
    "# Add columns for year and month\n",
    "df[\"month\"] = df.upload_date.dt.month\n",
    "df[\"year\"] = df.upload_date.dt.year\n",
    "df[\"month-year\"] = df.apply(lambda row: str(row.month) + \"-\" + str(row.year), axis=1)"
   ]
  },
  {
   "cell_type": "code",
   "execution_count": 121,
   "metadata": {},
   "outputs": [
    {
     "ename": "ConversionError",
     "evalue": "Failed to convert value(s) to axis units: (datetime.date(2000, 1, 1), datetime.date(2010, 1, 1))",
     "output_type": "error",
     "traceback": [
      "\u001b[1;31m---------------------------------------------------------------------------\u001b[0m",
      "\u001b[1;31mTypeError\u001b[0m                                 Traceback (most recent call last)",
      "\u001b[1;32m~\\Anaconda3\\lib\\site-packages\\matplotlib\\axis.py\u001b[0m in \u001b[0;36mconvert_units\u001b[1;34m(self, x)\u001b[0m\n\u001b[0;32m   1505\u001b[0m         \u001b[1;32mtry\u001b[0m\u001b[1;33m:\u001b[0m\u001b[1;33m\u001b[0m\u001b[1;33m\u001b[0m\u001b[0m\n\u001b[1;32m-> 1506\u001b[1;33m             \u001b[0mret\u001b[0m \u001b[1;33m=\u001b[0m \u001b[0mself\u001b[0m\u001b[1;33m.\u001b[0m\u001b[0mconverter\u001b[0m\u001b[1;33m.\u001b[0m\u001b[0mconvert\u001b[0m\u001b[1;33m(\u001b[0m\u001b[0mx\u001b[0m\u001b[1;33m,\u001b[0m \u001b[0mself\u001b[0m\u001b[1;33m.\u001b[0m\u001b[0munits\u001b[0m\u001b[1;33m,\u001b[0m \u001b[0mself\u001b[0m\u001b[1;33m)\u001b[0m\u001b[1;33m\u001b[0m\u001b[1;33m\u001b[0m\u001b[0m\n\u001b[0m\u001b[0;32m   1507\u001b[0m         \u001b[1;32mexcept\u001b[0m \u001b[0mException\u001b[0m \u001b[1;32mas\u001b[0m \u001b[0me\u001b[0m\u001b[1;33m:\u001b[0m\u001b[1;33m\u001b[0m\u001b[1;33m\u001b[0m\u001b[0m\n",
      "\u001b[1;32m~\\Anaconda3\\lib\\site-packages\\pandas\\plotting\\_matplotlib\\converter.py\u001b[0m in \u001b[0;36mconvert\u001b[1;34m(values, units, axis)\u001b[0m\n\u001b[0;32m    234\u001b[0m         \u001b[1;32melse\u001b[0m\u001b[1;33m:\u001b[0m\u001b[1;33m\u001b[0m\u001b[1;33m\u001b[0m\u001b[0m\n\u001b[1;32m--> 235\u001b[1;33m             \u001b[0mvalues\u001b[0m \u001b[1;33m=\u001b[0m \u001b[0mPeriodConverter\u001b[0m\u001b[1;33m.\u001b[0m\u001b[0m_convert_1d\u001b[0m\u001b[1;33m(\u001b[0m\u001b[0mvalues\u001b[0m\u001b[1;33m,\u001b[0m \u001b[0munits\u001b[0m\u001b[1;33m,\u001b[0m \u001b[0maxis\u001b[0m\u001b[1;33m)\u001b[0m\u001b[1;33m\u001b[0m\u001b[1;33m\u001b[0m\u001b[0m\n\u001b[0m\u001b[0;32m    236\u001b[0m         \u001b[1;32mreturn\u001b[0m \u001b[0mvalues\u001b[0m\u001b[1;33m\u001b[0m\u001b[1;33m\u001b[0m\u001b[0m\n",
      "\u001b[1;32m~\\Anaconda3\\lib\\site-packages\\pandas\\plotting\\_matplotlib\\converter.py\u001b[0m in \u001b[0;36m_convert_1d\u001b[1;34m(values, units, axis)\u001b[0m\n\u001b[0;32m    240\u001b[0m         \u001b[1;32mif\u001b[0m \u001b[1;32mnot\u001b[0m \u001b[0mhasattr\u001b[0m\u001b[1;33m(\u001b[0m\u001b[0maxis\u001b[0m\u001b[1;33m,\u001b[0m \u001b[1;34m\"freq\"\u001b[0m\u001b[1;33m)\u001b[0m\u001b[1;33m:\u001b[0m\u001b[1;33m\u001b[0m\u001b[1;33m\u001b[0m\u001b[0m\n\u001b[1;32m--> 241\u001b[1;33m             \u001b[1;32mraise\u001b[0m \u001b[0mTypeError\u001b[0m\u001b[1;33m(\u001b[0m\u001b[1;34m\"Axis must have `freq` set to convert to Periods\"\u001b[0m\u001b[1;33m)\u001b[0m\u001b[1;33m\u001b[0m\u001b[1;33m\u001b[0m\u001b[0m\n\u001b[0m\u001b[0;32m    242\u001b[0m         \u001b[0mvalid_types\u001b[0m \u001b[1;33m=\u001b[0m \u001b[1;33m(\u001b[0m\u001b[0mstr\u001b[0m\u001b[1;33m,\u001b[0m \u001b[0mdatetime\u001b[0m\u001b[1;33m,\u001b[0m \u001b[0mPeriod\u001b[0m\u001b[1;33m,\u001b[0m \u001b[0mpydt\u001b[0m\u001b[1;33m.\u001b[0m\u001b[0mdate\u001b[0m\u001b[1;33m,\u001b[0m \u001b[0mpydt\u001b[0m\u001b[1;33m.\u001b[0m\u001b[0mtime\u001b[0m\u001b[1;33m,\u001b[0m \u001b[0mnp\u001b[0m\u001b[1;33m.\u001b[0m\u001b[0mdatetime64\u001b[0m\u001b[1;33m)\u001b[0m\u001b[1;33m\u001b[0m\u001b[1;33m\u001b[0m\u001b[0m\n",
      "\u001b[1;31mTypeError\u001b[0m: Axis must have `freq` set to convert to Periods",
      "\nThe above exception was the direct cause of the following exception:\n",
      "\u001b[1;31mConversionError\u001b[0m                           Traceback (most recent call last)",
      "\u001b[1;32m~\\AppData\\Local\\Temp\\ipykernel_13140\\2798383320.py\u001b[0m in \u001b[0;36m<module>\u001b[1;34m\u001b[0m\n\u001b[0;32m      7\u001b[0m \u001b[0mplt\u001b[0m\u001b[1;33m.\u001b[0m\u001b[0mfigure\u001b[0m\u001b[1;33m(\u001b[0m\u001b[0mfigsize\u001b[0m\u001b[1;33m=\u001b[0m\u001b[1;33m(\u001b[0m\u001b[1;36m10\u001b[0m\u001b[1;33m,\u001b[0m \u001b[1;36m6\u001b[0m\u001b[1;33m)\u001b[0m\u001b[1;33m)\u001b[0m\u001b[1;33m\u001b[0m\u001b[1;33m\u001b[0m\u001b[0m\n\u001b[0;32m      8\u001b[0m \u001b[1;32mfor\u001b[0m \u001b[0mchannel_cat\u001b[0m\u001b[1;33m,\u001b[0m \u001b[0mdata\u001b[0m \u001b[1;32min\u001b[0m \u001b[0mgrouped_df\u001b[0m\u001b[1;33m.\u001b[0m\u001b[0mgroupby\u001b[0m\u001b[1;33m(\u001b[0m\u001b[1;34m'channel_cat'\u001b[0m\u001b[1;33m)\u001b[0m\u001b[1;33m:\u001b[0m\u001b[1;33m\u001b[0m\u001b[1;33m\u001b[0m\u001b[0m\n\u001b[1;32m----> 9\u001b[1;33m     \u001b[0mplt\u001b[0m\u001b[1;33m.\u001b[0m\u001b[0mplot\u001b[0m\u001b[1;33m(\u001b[0m\u001b[0mdata\u001b[0m\u001b[1;33m[\u001b[0m\u001b[1;34m'month_year'\u001b[0m\u001b[1;33m]\u001b[0m\u001b[1;33m,\u001b[0m \u001b[0mdata\u001b[0m\u001b[1;33m[\u001b[0m\u001b[1;34m'view_count'\u001b[0m\u001b[1;33m]\u001b[0m\u001b[1;33m,\u001b[0m \u001b[0mlabel\u001b[0m\u001b[1;33m=\u001b[0m\u001b[0mchannel_cat\u001b[0m\u001b[1;33m)\u001b[0m\u001b[1;33m\u001b[0m\u001b[1;33m\u001b[0m\u001b[0m\n\u001b[0m",
      "\u001b[1;32m~\\Anaconda3\\lib\\site-packages\\matplotlib\\pyplot.py\u001b[0m in \u001b[0;36mplot\u001b[1;34m(scalex, scaley, data, *args, **kwargs)\u001b[0m\n\u001b[0;32m   2767\u001b[0m \u001b[1;33m@\u001b[0m\u001b[0m_copy_docstring_and_deprecators\u001b[0m\u001b[1;33m(\u001b[0m\u001b[0mAxes\u001b[0m\u001b[1;33m.\u001b[0m\u001b[0mplot\u001b[0m\u001b[1;33m)\u001b[0m\u001b[1;33m\u001b[0m\u001b[1;33m\u001b[0m\u001b[0m\n\u001b[0;32m   2768\u001b[0m \u001b[1;32mdef\u001b[0m \u001b[0mplot\u001b[0m\u001b[1;33m(\u001b[0m\u001b[1;33m*\u001b[0m\u001b[0margs\u001b[0m\u001b[1;33m,\u001b[0m \u001b[0mscalex\u001b[0m\u001b[1;33m=\u001b[0m\u001b[1;32mTrue\u001b[0m\u001b[1;33m,\u001b[0m \u001b[0mscaley\u001b[0m\u001b[1;33m=\u001b[0m\u001b[1;32mTrue\u001b[0m\u001b[1;33m,\u001b[0m \u001b[0mdata\u001b[0m\u001b[1;33m=\u001b[0m\u001b[1;32mNone\u001b[0m\u001b[1;33m,\u001b[0m \u001b[1;33m**\u001b[0m\u001b[0mkwargs\u001b[0m\u001b[1;33m)\u001b[0m\u001b[1;33m:\u001b[0m\u001b[1;33m\u001b[0m\u001b[1;33m\u001b[0m\u001b[0m\n\u001b[1;32m-> 2769\u001b[1;33m     return gca().plot(\n\u001b[0m\u001b[0;32m   2770\u001b[0m         \u001b[1;33m*\u001b[0m\u001b[0margs\u001b[0m\u001b[1;33m,\u001b[0m \u001b[0mscalex\u001b[0m\u001b[1;33m=\u001b[0m\u001b[0mscalex\u001b[0m\u001b[1;33m,\u001b[0m \u001b[0mscaley\u001b[0m\u001b[1;33m=\u001b[0m\u001b[0mscaley\u001b[0m\u001b[1;33m,\u001b[0m\u001b[1;33m\u001b[0m\u001b[1;33m\u001b[0m\u001b[0m\n\u001b[0;32m   2771\u001b[0m         **({\"data\": data} if data is not None else {}), **kwargs)\n",
      "\u001b[1;32m~\\Anaconda3\\lib\\site-packages\\matplotlib\\axes\\_axes.py\u001b[0m in \u001b[0;36mplot\u001b[1;34m(self, scalex, scaley, data, *args, **kwargs)\u001b[0m\n\u001b[0;32m   1630\u001b[0m         \"\"\"\n\u001b[0;32m   1631\u001b[0m         \u001b[0mkwargs\u001b[0m \u001b[1;33m=\u001b[0m \u001b[0mcbook\u001b[0m\u001b[1;33m.\u001b[0m\u001b[0mnormalize_kwargs\u001b[0m\u001b[1;33m(\u001b[0m\u001b[0mkwargs\u001b[0m\u001b[1;33m,\u001b[0m \u001b[0mmlines\u001b[0m\u001b[1;33m.\u001b[0m\u001b[0mLine2D\u001b[0m\u001b[1;33m)\u001b[0m\u001b[1;33m\u001b[0m\u001b[1;33m\u001b[0m\u001b[0m\n\u001b[1;32m-> 1632\u001b[1;33m         \u001b[0mlines\u001b[0m \u001b[1;33m=\u001b[0m \u001b[1;33m[\u001b[0m\u001b[1;33m*\u001b[0m\u001b[0mself\u001b[0m\u001b[1;33m.\u001b[0m\u001b[0m_get_lines\u001b[0m\u001b[1;33m(\u001b[0m\u001b[1;33m*\u001b[0m\u001b[0margs\u001b[0m\u001b[1;33m,\u001b[0m \u001b[0mdata\u001b[0m\u001b[1;33m=\u001b[0m\u001b[0mdata\u001b[0m\u001b[1;33m,\u001b[0m \u001b[1;33m**\u001b[0m\u001b[0mkwargs\u001b[0m\u001b[1;33m)\u001b[0m\u001b[1;33m]\u001b[0m\u001b[1;33m\u001b[0m\u001b[1;33m\u001b[0m\u001b[0m\n\u001b[0m\u001b[0;32m   1633\u001b[0m         \u001b[1;32mfor\u001b[0m \u001b[0mline\u001b[0m \u001b[1;32min\u001b[0m \u001b[0mlines\u001b[0m\u001b[1;33m:\u001b[0m\u001b[1;33m\u001b[0m\u001b[1;33m\u001b[0m\u001b[0m\n\u001b[0;32m   1634\u001b[0m             \u001b[0mself\u001b[0m\u001b[1;33m.\u001b[0m\u001b[0madd_line\u001b[0m\u001b[1;33m(\u001b[0m\u001b[0mline\u001b[0m\u001b[1;33m)\u001b[0m\u001b[1;33m\u001b[0m\u001b[1;33m\u001b[0m\u001b[0m\n",
      "\u001b[1;32m~\\Anaconda3\\lib\\site-packages\\matplotlib\\axes\\_base.py\u001b[0m in \u001b[0;36m__call__\u001b[1;34m(self, data, *args, **kwargs)\u001b[0m\n\u001b[0;32m    310\u001b[0m                 \u001b[0mthis\u001b[0m \u001b[1;33m+=\u001b[0m \u001b[0margs\u001b[0m\u001b[1;33m[\u001b[0m\u001b[1;36m0\u001b[0m\u001b[1;33m]\u001b[0m\u001b[1;33m,\u001b[0m\u001b[1;33m\u001b[0m\u001b[1;33m\u001b[0m\u001b[0m\n\u001b[0;32m    311\u001b[0m                 \u001b[0margs\u001b[0m \u001b[1;33m=\u001b[0m \u001b[0margs\u001b[0m\u001b[1;33m[\u001b[0m\u001b[1;36m1\u001b[0m\u001b[1;33m:\u001b[0m\u001b[1;33m]\u001b[0m\u001b[1;33m\u001b[0m\u001b[1;33m\u001b[0m\u001b[0m\n\u001b[1;32m--> 312\u001b[1;33m             \u001b[1;32myield\u001b[0m \u001b[1;32mfrom\u001b[0m \u001b[0mself\u001b[0m\u001b[1;33m.\u001b[0m\u001b[0m_plot_args\u001b[0m\u001b[1;33m(\u001b[0m\u001b[0mthis\u001b[0m\u001b[1;33m,\u001b[0m \u001b[0mkwargs\u001b[0m\u001b[1;33m)\u001b[0m\u001b[1;33m\u001b[0m\u001b[1;33m\u001b[0m\u001b[0m\n\u001b[0m\u001b[0;32m    313\u001b[0m \u001b[1;33m\u001b[0m\u001b[0m\n\u001b[0;32m    314\u001b[0m     \u001b[1;32mdef\u001b[0m \u001b[0mget_next_color\u001b[0m\u001b[1;33m(\u001b[0m\u001b[0mself\u001b[0m\u001b[1;33m)\u001b[0m\u001b[1;33m:\u001b[0m\u001b[1;33m\u001b[0m\u001b[1;33m\u001b[0m\u001b[0m\n",
      "\u001b[1;32m~\\Anaconda3\\lib\\site-packages\\matplotlib\\axes\\_base.py\u001b[0m in \u001b[0;36m_plot_args\u001b[1;34m(self, tup, kwargs, return_kwargs)\u001b[0m\n\u001b[0;32m    491\u001b[0m \u001b[1;33m\u001b[0m\u001b[0m\n\u001b[0;32m    492\u001b[0m         \u001b[1;32mif\u001b[0m \u001b[0mself\u001b[0m\u001b[1;33m.\u001b[0m\u001b[0maxes\u001b[0m\u001b[1;33m.\u001b[0m\u001b[0mxaxis\u001b[0m \u001b[1;32mis\u001b[0m \u001b[1;32mnot\u001b[0m \u001b[1;32mNone\u001b[0m\u001b[1;33m:\u001b[0m\u001b[1;33m\u001b[0m\u001b[1;33m\u001b[0m\u001b[0m\n\u001b[1;32m--> 493\u001b[1;33m             \u001b[0mself\u001b[0m\u001b[1;33m.\u001b[0m\u001b[0maxes\u001b[0m\u001b[1;33m.\u001b[0m\u001b[0mxaxis\u001b[0m\u001b[1;33m.\u001b[0m\u001b[0mupdate_units\u001b[0m\u001b[1;33m(\u001b[0m\u001b[0mx\u001b[0m\u001b[1;33m)\u001b[0m\u001b[1;33m\u001b[0m\u001b[1;33m\u001b[0m\u001b[0m\n\u001b[0m\u001b[0;32m    494\u001b[0m         \u001b[1;32mif\u001b[0m \u001b[0mself\u001b[0m\u001b[1;33m.\u001b[0m\u001b[0maxes\u001b[0m\u001b[1;33m.\u001b[0m\u001b[0myaxis\u001b[0m \u001b[1;32mis\u001b[0m \u001b[1;32mnot\u001b[0m \u001b[1;32mNone\u001b[0m\u001b[1;33m:\u001b[0m\u001b[1;33m\u001b[0m\u001b[1;33m\u001b[0m\u001b[0m\n\u001b[0;32m    495\u001b[0m             \u001b[0mself\u001b[0m\u001b[1;33m.\u001b[0m\u001b[0maxes\u001b[0m\u001b[1;33m.\u001b[0m\u001b[0myaxis\u001b[0m\u001b[1;33m.\u001b[0m\u001b[0mupdate_units\u001b[0m\u001b[1;33m(\u001b[0m\u001b[0my\u001b[0m\u001b[1;33m)\u001b[0m\u001b[1;33m\u001b[0m\u001b[1;33m\u001b[0m\u001b[0m\n",
      "\u001b[1;32m~\\Anaconda3\\lib\\site-packages\\matplotlib\\axis.py\u001b[0m in \u001b[0;36mupdate_units\u001b[1;34m(self, data)\u001b[0m\n\u001b[0;32m   1452\u001b[0m \u001b[1;33m\u001b[0m\u001b[0m\n\u001b[0;32m   1453\u001b[0m         \u001b[1;32melif\u001b[0m \u001b[0mneednew\u001b[0m\u001b[1;33m:\u001b[0m\u001b[1;33m\u001b[0m\u001b[1;33m\u001b[0m\u001b[0m\n\u001b[1;32m-> 1454\u001b[1;33m             \u001b[0mself\u001b[0m\u001b[1;33m.\u001b[0m\u001b[0m_update_axisinfo\u001b[0m\u001b[1;33m(\u001b[0m\u001b[1;33m)\u001b[0m\u001b[1;33m\u001b[0m\u001b[1;33m\u001b[0m\u001b[0m\n\u001b[0m\u001b[0;32m   1455\u001b[0m         \u001b[0mself\u001b[0m\u001b[1;33m.\u001b[0m\u001b[0mstale\u001b[0m \u001b[1;33m=\u001b[0m \u001b[1;32mTrue\u001b[0m\u001b[1;33m\u001b[0m\u001b[1;33m\u001b[0m\u001b[0m\n\u001b[0;32m   1456\u001b[0m         \u001b[1;32mreturn\u001b[0m \u001b[1;32mTrue\u001b[0m\u001b[1;33m\u001b[0m\u001b[1;33m\u001b[0m\u001b[0m\n",
      "\u001b[1;32m~\\Anaconda3\\lib\\site-packages\\matplotlib\\axis.py\u001b[0m in \u001b[0;36m_update_axisinfo\u001b[1;34m(self)\u001b[0m\n\u001b[0;32m   1488\u001b[0m             \u001b[0mself\u001b[0m\u001b[1;33m.\u001b[0m\u001b[0misDefault_label\u001b[0m \u001b[1;33m=\u001b[0m \u001b[1;32mTrue\u001b[0m\u001b[1;33m\u001b[0m\u001b[1;33m\u001b[0m\u001b[0m\n\u001b[0;32m   1489\u001b[0m \u001b[1;33m\u001b[0m\u001b[0m\n\u001b[1;32m-> 1490\u001b[1;33m         \u001b[0mself\u001b[0m\u001b[1;33m.\u001b[0m\u001b[0mset_default_intervals\u001b[0m\u001b[1;33m(\u001b[0m\u001b[1;33m)\u001b[0m\u001b[1;33m\u001b[0m\u001b[1;33m\u001b[0m\u001b[0m\n\u001b[0m\u001b[0;32m   1491\u001b[0m \u001b[1;33m\u001b[0m\u001b[0m\n\u001b[0;32m   1492\u001b[0m     \u001b[1;32mdef\u001b[0m \u001b[0mhave_units\u001b[0m\u001b[1;33m(\u001b[0m\u001b[0mself\u001b[0m\u001b[1;33m)\u001b[0m\u001b[1;33m:\u001b[0m\u001b[1;33m\u001b[0m\u001b[1;33m\u001b[0m\u001b[0m\n",
      "\u001b[1;32m~\\Anaconda3\\lib\\site-packages\\matplotlib\\axis.py\u001b[0m in \u001b[0;36mset_default_intervals\u001b[1;34m(self)\u001b[0m\n\u001b[0;32m   2252\u001b[0m                 \u001b[0minfo\u001b[0m \u001b[1;33m=\u001b[0m \u001b[0mself\u001b[0m\u001b[1;33m.\u001b[0m\u001b[0mconverter\u001b[0m\u001b[1;33m.\u001b[0m\u001b[0maxisinfo\u001b[0m\u001b[1;33m(\u001b[0m\u001b[0mself\u001b[0m\u001b[1;33m.\u001b[0m\u001b[0munits\u001b[0m\u001b[1;33m,\u001b[0m \u001b[0mself\u001b[0m\u001b[1;33m)\u001b[0m\u001b[1;33m\u001b[0m\u001b[1;33m\u001b[0m\u001b[0m\n\u001b[0;32m   2253\u001b[0m                 \u001b[1;32mif\u001b[0m \u001b[0minfo\u001b[0m\u001b[1;33m.\u001b[0m\u001b[0mdefault_limits\u001b[0m \u001b[1;32mis\u001b[0m \u001b[1;32mnot\u001b[0m \u001b[1;32mNone\u001b[0m\u001b[1;33m:\u001b[0m\u001b[1;33m\u001b[0m\u001b[1;33m\u001b[0m\u001b[0m\n\u001b[1;32m-> 2254\u001b[1;33m                     \u001b[0mxmin\u001b[0m\u001b[1;33m,\u001b[0m \u001b[0mxmax\u001b[0m \u001b[1;33m=\u001b[0m \u001b[0mself\u001b[0m\u001b[1;33m.\u001b[0m\u001b[0mconvert_units\u001b[0m\u001b[1;33m(\u001b[0m\u001b[0minfo\u001b[0m\u001b[1;33m.\u001b[0m\u001b[0mdefault_limits\u001b[0m\u001b[1;33m)\u001b[0m\u001b[1;33m\u001b[0m\u001b[1;33m\u001b[0m\u001b[0m\n\u001b[0m\u001b[0;32m   2255\u001b[0m                     \u001b[0mself\u001b[0m\u001b[1;33m.\u001b[0m\u001b[0maxes\u001b[0m\u001b[1;33m.\u001b[0m\u001b[0mviewLim\u001b[0m\u001b[1;33m.\u001b[0m\u001b[0mintervalx\u001b[0m \u001b[1;33m=\u001b[0m \u001b[0mxmin\u001b[0m\u001b[1;33m,\u001b[0m \u001b[0mxmax\u001b[0m\u001b[1;33m\u001b[0m\u001b[1;33m\u001b[0m\u001b[0m\n\u001b[0;32m   2256\u001b[0m         \u001b[0mself\u001b[0m\u001b[1;33m.\u001b[0m\u001b[0mstale\u001b[0m \u001b[1;33m=\u001b[0m \u001b[1;32mTrue\u001b[0m\u001b[1;33m\u001b[0m\u001b[1;33m\u001b[0m\u001b[0m\n",
      "\u001b[1;32m~\\Anaconda3\\lib\\site-packages\\matplotlib\\axis.py\u001b[0m in \u001b[0;36mconvert_units\u001b[1;34m(self, x)\u001b[0m\n\u001b[0;32m   1506\u001b[0m             \u001b[0mret\u001b[0m \u001b[1;33m=\u001b[0m \u001b[0mself\u001b[0m\u001b[1;33m.\u001b[0m\u001b[0mconverter\u001b[0m\u001b[1;33m.\u001b[0m\u001b[0mconvert\u001b[0m\u001b[1;33m(\u001b[0m\u001b[0mx\u001b[0m\u001b[1;33m,\u001b[0m \u001b[0mself\u001b[0m\u001b[1;33m.\u001b[0m\u001b[0munits\u001b[0m\u001b[1;33m,\u001b[0m \u001b[0mself\u001b[0m\u001b[1;33m)\u001b[0m\u001b[1;33m\u001b[0m\u001b[1;33m\u001b[0m\u001b[0m\n\u001b[0;32m   1507\u001b[0m         \u001b[1;32mexcept\u001b[0m \u001b[0mException\u001b[0m \u001b[1;32mas\u001b[0m \u001b[0me\u001b[0m\u001b[1;33m:\u001b[0m\u001b[1;33m\u001b[0m\u001b[1;33m\u001b[0m\u001b[0m\n\u001b[1;32m-> 1508\u001b[1;33m             raise munits.ConversionError('Failed to convert value(s) to axis '\n\u001b[0m\u001b[0;32m   1509\u001b[0m                                          f'units: {x!r}') from e\n\u001b[0;32m   1510\u001b[0m         \u001b[1;32mreturn\u001b[0m \u001b[0mret\u001b[0m\u001b[1;33m\u001b[0m\u001b[1;33m\u001b[0m\u001b[0m\n",
      "\u001b[1;31mConversionError\u001b[0m: Failed to convert value(s) to axis units: (datetime.date(2000, 1, 1), datetime.date(2010, 1, 1))"
     ]
    },
    {
     "data": {
      "image/png": "[encoded data removed]",
      "text/plain": [
       "<Figure size 1000x600 with 1 Axes>"
      ]
     },
     "metadata": {},
     "output_type": "display_data"
    }
   ],
   "source": [
    "df['month_year'] = df['upload_date'].dt.to_period(freq = 'M')\n",
    "\n",
    "# Group by 'channel_cat' and 'month_year', and calculate mean of 'view_count'\n",
    "grouped_df = df.groupby(['channel_cat', 'month_year'])['view_count'].mean().reset_index()\n",
    "\n",
    "# Plot the line plot\n",
    "plt.figure(figsize=(10, 6))\n",
    "for channel_cat, data in grouped_df.groupby('channel_cat'):\n",
    "    plt.plot(data['month_year'], data['view_count'], label=channel_cat)"
   ]
  },
  {
   "cell_type": "code",
   "execution_count": 14,
   "metadata": {
    "id": "AzzLYyfIakpQ"
   },
   "outputs": [
    {
     "data": {
      "text/plain": [
       "<AxesSubplot:xlabel='month-year', ylabel='view_count'>"
      ]
     },
     "execution_count": 14,
     "metadata": {},
     "output_type": "execute_result"
    },
    {
     "data": {
      "image/png": "[encoded data removed]",
      "text/plain": [
       "<Figure size 1100x700 with 1 Axes>"
      ]
     },
     "metadata": {},
     "output_type": "display_data"
    }
   ],
   "source": [
    "# Create a figure and plot the line chart of average views for the category Gaming\n",
    "fig=plt.figure(figsize=(11,7))\n",
    "sns.lineplot(x=\"month-year\", y=\"view_count\", data=df.sort_values(by=\"upload_date\"), hue='channel_cat', ci=None)"
   ]
  },
  {
   "cell_type": "markdown",
   "metadata": {
    "id": "f5gSSnwUakpQ"
   },
   "source": [
    "#### Question 3.3: What is the correlation between the average monthly views of each channel category for the year 2012 ?\n",
    "__Hint :__ You may want to filter data for the year 2012 first, then get monthly average views as a time series for both channels before computing the correlation."
   ]
  },
  {
   "cell_type": "code",
   "execution_count": 15,
   "metadata": {},
   "outputs": [
    {
     "name": "stdout",
     "output_type": "stream",
     "text": [
      "channel_cat    Gaming  Howto & Style\n",
      "channel_cat                         \n",
      "Gaming           1.00           0.53\n",
      "Howto & Style    0.53           1.00\n"
     ]
    }
   ],
   "source": [
    "df_2012 = df[df['year'] == 2012]  # Filter data for the year 2012\n",
    "\n",
    "grouped = df_2012.groupby(['month', 'channel_cat'])['view_count'].mean().reset_index()\n",
    "\n",
    "pivot_table = pd.pivot_table(grouped, values='view_count', index='month', columns='channel_cat')\n",
    "\n",
    "correlation = pivot_table.corr()\n",
    "\n",
    "print(correlation)"
   ]
  },
  {
   "cell_type": "markdown",
   "metadata": {
    "id": "w6-mD_F1xKzN"
   },
   "source": [
    "### Question 4. Number of tags and the average rating of the videos"
   ]
  },
  {
   "cell_type": "markdown",
   "metadata": {
    "id": "2MXPiLsDakpQ"
   },
   "source": [
    "#### Question 4.1: Add a colum to the dataframe that contains the number of tags related to this video"
   ]
  },
  {
   "cell_type": "code",
   "execution_count": 16,
   "metadata": {
    "id": "sjWl_RHmakpR"
   },
   "outputs": [],
   "source": [
    "df['Number of tags'] = df.apply(lambda row: len(row.tags), axis=1)"
   ]
  },
  {
   "cell_type": "code",
   "execution_count": 17,
   "metadata": {},
   "outputs": [
    {
     "data": {
      "text/html": [
       "<div>\n",
       "<style scoped>\n",
       "    .dataframe tbody tr th:only-of-type {\n",
       "        vertical-align: middle;\n",
       "    }\n",
       "\n",
       "    .dataframe tbody tr th {\n",
       "        vertical-align: top;\n",
       "    }\n",
       "\n",
       "    .dataframe thead th {\n",
       "        text-align: right;\n",
       "    }\n",
       "</style>\n",
       "<table border=\"1\" class=\"dataframe\">\n",
       "  <thead>\n",
       "    <tr style=\"text-align: right;\">\n",
       "      <th></th>\n",
       "      <th>channel</th>\n",
       "      <th>upload_date</th>\n",
       "      <th>title</th>\n",
       "      <th>tags</th>\n",
       "      <th>duration</th>\n",
       "      <th>view_count</th>\n",
       "      <th>average_rating</th>\n",
       "      <th>height</th>\n",
       "      <th>width</th>\n",
       "      <th>channel_cat</th>\n",
       "      <th>month</th>\n",
       "      <th>year</th>\n",
       "      <th>month-year</th>\n",
       "      <th>Number of tags</th>\n",
       "    </tr>\n",
       "  </thead>\n",
       "  <tbody>\n",
       "    <tr>\n",
       "      <th>0</th>\n",
       "      <td>PewDiePie</td>\n",
       "      <td>2013-03-04</td>\n",
       "      <td>A NEW ADVENTURE! - Kingdom Hearts (1) w/ Pewds</td>\n",
       "      <td>['lets', 'play', 'horror', 'game', 'walkthroug...</td>\n",
       "      <td>1126.00</td>\n",
       "      <td>2541550.00</td>\n",
       "      <td>4.89</td>\n",
       "      <td>720.00</td>\n",
       "      <td>1280.00</td>\n",
       "      <td>Gaming</td>\n",
       "      <td>3</td>\n",
       "      <td>2013</td>\n",
       "      <td>3-2013</td>\n",
       "      <td>117</td>\n",
       "    </tr>\n",
       "    <tr>\n",
       "      <th>1</th>\n",
       "      <td>PewDiePie</td>\n",
       "      <td>2013-03-04</td>\n",
       "      <td>SAVING PRIVATE PEWDS - Conker's Bad Fur Day (15)</td>\n",
       "      <td>['lets', 'play', 'horror', 'game', 'walkthroug...</td>\n",
       "      <td>903.00</td>\n",
       "      <td>1727646.00</td>\n",
       "      <td>4.95</td>\n",
       "      <td>720.00</td>\n",
       "      <td>1280.00</td>\n",
       "      <td>Gaming</td>\n",
       "      <td>3</td>\n",
       "      <td>2013</td>\n",
       "      <td>3-2013</td>\n",
       "      <td>117</td>\n",
       "    </tr>\n",
       "    <tr>\n",
       "      <th>2</th>\n",
       "      <td>PewDiePie</td>\n",
       "      <td>2013-03-04</td>\n",
       "      <td>THE WORST SCARE! - Amnesia: Rain (4)</td>\n",
       "      <td>['lets', 'play', 'horror', 'game', 'walkthroug...</td>\n",
       "      <td>806.00</td>\n",
       "      <td>1402747.00</td>\n",
       "      <td>4.96</td>\n",
       "      <td>720.00</td>\n",
       "      <td>1280.00</td>\n",
       "      <td>Gaming</td>\n",
       "      <td>3</td>\n",
       "      <td>2013</td>\n",
       "      <td>3-2013</td>\n",
       "      <td>117</td>\n",
       "    </tr>\n",
       "    <tr>\n",
       "      <th>3</th>\n",
       "      <td>PewDiePie</td>\n",
       "      <td>2013-03-03</td>\n",
       "      <td>Nova / Sp00n / Cry / Pewds - Worms Revolution ...</td>\n",
       "      <td>['lets', 'play', 'horror', 'game', 'walkthroug...</td>\n",
       "      <td>909.00</td>\n",
       "      <td>4348296.00</td>\n",
       "      <td>4.94</td>\n",
       "      <td>720.00</td>\n",
       "      <td>1280.00</td>\n",
       "      <td>Gaming</td>\n",
       "      <td>3</td>\n",
       "      <td>2013</td>\n",
       "      <td>3-2013</td>\n",
       "      <td>117</td>\n",
       "    </tr>\n",
       "    <tr>\n",
       "      <th>4</th>\n",
       "      <td>PewDiePie</td>\n",
       "      <td>2013-03-03</td>\n",
       "      <td>SEXIEST HORROR EVER - Amnesia: Rain (3)</td>\n",
       "      <td>['lets', 'play', 'horror', 'game', 'walkthroug...</td>\n",
       "      <td>834.00</td>\n",
       "      <td>1410659.00</td>\n",
       "      <td>4.96</td>\n",
       "      <td>720.00</td>\n",
       "      <td>1280.00</td>\n",
       "      <td>Gaming</td>\n",
       "      <td>3</td>\n",
       "      <td>2013</td>\n",
       "      <td>3-2013</td>\n",
       "      <td>117</td>\n",
       "    </tr>\n",
       "    <tr>\n",
       "      <th>...</th>\n",
       "      <td>...</td>\n",
       "      <td>...</td>\n",
       "      <td>...</td>\n",
       "      <td>...</td>\n",
       "      <td>...</td>\n",
       "      <td>...</td>\n",
       "      <td>...</td>\n",
       "      <td>...</td>\n",
       "      <td>...</td>\n",
       "      <td>...</td>\n",
       "      <td>...</td>\n",
       "      <td>...</td>\n",
       "      <td>...</td>\n",
       "      <td>...</td>\n",
       "    </tr>\n",
       "    <tr>\n",
       "      <th>139502</th>\n",
       "      <td>cutepolish</td>\n",
       "      <td>2010-02-23</td>\n",
       "      <td>Easy Bride Wedding Nails</td>\n",
       "      <td>['easy', 'makeup', 'beauty', 'fashion']</td>\n",
       "      <td>201.00</td>\n",
       "      <td>284147.00</td>\n",
       "      <td>4.61</td>\n",
       "      <td>480.00</td>\n",
       "      <td>640.00</td>\n",
       "      <td>Howto &amp; Style</td>\n",
       "      <td>2</td>\n",
       "      <td>2010</td>\n",
       "      <td>2-2010</td>\n",
       "      <td>39</td>\n",
       "    </tr>\n",
       "    <tr>\n",
       "      <th>139503</th>\n",
       "      <td>cutepolish</td>\n",
       "      <td>2010-02-22</td>\n",
       "      <td>Purple Flower Nails</td>\n",
       "      <td>['easy', 'makeup', 'beauty', 'fashion', 'tutor...</td>\n",
       "      <td>180.00</td>\n",
       "      <td>136278.00</td>\n",
       "      <td>4.64</td>\n",
       "      <td>480.00</td>\n",
       "      <td>640.00</td>\n",
       "      <td>Howto &amp; Style</td>\n",
       "      <td>2</td>\n",
       "      <td>2010</td>\n",
       "      <td>2-2010</td>\n",
       "      <td>51</td>\n",
       "    </tr>\n",
       "    <tr>\n",
       "      <th>139504</th>\n",
       "      <td>cutepolish</td>\n",
       "      <td>2010-02-21</td>\n",
       "      <td>Domo Kun Nails</td>\n",
       "      <td>['easy', 'makeup', 'beauty', 'fashion']</td>\n",
       "      <td>277.00</td>\n",
       "      <td>228384.00</td>\n",
       "      <td>4.84</td>\n",
       "      <td>480.00</td>\n",
       "      <td>640.00</td>\n",
       "      <td>Howto &amp; Style</td>\n",
       "      <td>2</td>\n",
       "      <td>2010</td>\n",
       "      <td>2-2010</td>\n",
       "      <td>39</td>\n",
       "    </tr>\n",
       "    <tr>\n",
       "      <th>139505</th>\n",
       "      <td>cutepolish</td>\n",
       "      <td>2010-02-20</td>\n",
       "      <td>Easy Plaid Nails</td>\n",
       "      <td>['easy', 'makeup', 'beauty', 'fashion']</td>\n",
       "      <td>174.00</td>\n",
       "      <td>247053.00</td>\n",
       "      <td>4.86</td>\n",
       "      <td>480.00</td>\n",
       "      <td>640.00</td>\n",
       "      <td>Howto &amp; Style</td>\n",
       "      <td>2</td>\n",
       "      <td>2010</td>\n",
       "      <td>2-2010</td>\n",
       "      <td>39</td>\n",
       "    </tr>\n",
       "    <tr>\n",
       "      <th>139506</th>\n",
       "      <td>cutepolish</td>\n",
       "      <td>2010-02-20</td>\n",
       "      <td>Hime Gyaru Nails</td>\n",
       "      <td>['makeup', 'beauty', 'fashion']</td>\n",
       "      <td>329.00</td>\n",
       "      <td>331964.00</td>\n",
       "      <td>4.46</td>\n",
       "      <td>480.00</td>\n",
       "      <td>640.00</td>\n",
       "      <td>Howto &amp; Style</td>\n",
       "      <td>2</td>\n",
       "      <td>2010</td>\n",
       "      <td>2-2010</td>\n",
       "      <td>31</td>\n",
       "    </tr>\n",
       "  </tbody>\n",
       "</table>\n",
       "<p>139507 rows × 14 columns</p>\n",
       "</div>"
      ],
      "text/plain": [
       "           channel upload_date  \\\n",
       "0        PewDiePie  2013-03-04   \n",
       "1        PewDiePie  2013-03-04   \n",
       "2        PewDiePie  2013-03-04   \n",
       "3        PewDiePie  2013-03-03   \n",
       "4        PewDiePie  2013-03-03   \n",
       "...            ...         ...   \n",
       "139502  cutepolish  2010-02-23   \n",
       "139503  cutepolish  2010-02-22   \n",
       "139504  cutepolish  2010-02-21   \n",
       "139505  cutepolish  2010-02-20   \n",
       "139506  cutepolish  2010-02-20   \n",
       "\n",
       "                                                    title  \\\n",
       "0          A NEW ADVENTURE! - Kingdom Hearts (1) w/ Pewds   \n",
       "1        SAVING PRIVATE PEWDS - Conker's Bad Fur Day (15)   \n",
       "2                    THE WORST SCARE! - Amnesia: Rain (4)   \n",
       "3       Nova / Sp00n / Cry / Pewds - Worms Revolution ...   \n",
       "4                 SEXIEST HORROR EVER - Amnesia: Rain (3)   \n",
       "...                                                   ...   \n",
       "139502                           Easy Bride Wedding Nails   \n",
       "139503                                Purple Flower Nails   \n",
       "139504                                     Domo Kun Nails   \n",
       "139505                                   Easy Plaid Nails   \n",
       "139506                                   Hime Gyaru Nails   \n",
       "\n",
       "                                                     tags  duration  \\\n",
       "0       ['lets', 'play', 'horror', 'game', 'walkthroug...   1126.00   \n",
       "1       ['lets', 'play', 'horror', 'game', 'walkthroug...    903.00   \n",
       "2       ['lets', 'play', 'horror', 'game', 'walkthroug...    806.00   \n",
       "3       ['lets', 'play', 'horror', 'game', 'walkthroug...    909.00   \n",
       "4       ['lets', 'play', 'horror', 'game', 'walkthroug...    834.00   \n",
       "...                                                   ...       ...   \n",
       "139502            ['easy', 'makeup', 'beauty', 'fashion']    201.00   \n",
       "139503  ['easy', 'makeup', 'beauty', 'fashion', 'tutor...    180.00   \n",
       "139504            ['easy', 'makeup', 'beauty', 'fashion']    277.00   \n",
       "139505            ['easy', 'makeup', 'beauty', 'fashion']    174.00   \n",
       "139506                    ['makeup', 'beauty', 'fashion']    329.00   \n",
       "\n",
       "        view_count  average_rating  height   width    channel_cat  month  \\\n",
       "0       2541550.00            4.89  720.00 1280.00         Gaming      3   \n",
       "1       1727646.00            4.95  720.00 1280.00         Gaming      3   \n",
       "2       1402747.00            4.96  720.00 1280.00         Gaming      3   \n",
       "3       4348296.00            4.94  720.00 1280.00         Gaming      3   \n",
       "4       1410659.00            4.96  720.00 1280.00         Gaming      3   \n",
       "...            ...             ...     ...     ...            ...    ...   \n",
       "139502   284147.00            4.61  480.00  640.00  Howto & Style      2   \n",
       "139503   136278.00            4.64  480.00  640.00  Howto & Style      2   \n",
       "139504   228384.00            4.84  480.00  640.00  Howto & Style      2   \n",
       "139505   247053.00            4.86  480.00  640.00  Howto & Style      2   \n",
       "139506   331964.00            4.46  480.00  640.00  Howto & Style      2   \n",
       "\n",
       "        year month-year  Number of tags  \n",
       "0       2013     3-2013             117  \n",
       "1       2013     3-2013             117  \n",
       "2       2013     3-2013             117  \n",
       "3       2013     3-2013             117  \n",
       "4       2013     3-2013             117  \n",
       "...      ...        ...             ...  \n",
       "139502  2010     2-2010              39  \n",
       "139503  2010     2-2010              51  \n",
       "139504  2010     2-2010              39  \n",
       "139505  2010     2-2010              39  \n",
       "139506  2010     2-2010              31  \n",
       "\n",
       "[139507 rows x 14 columns]"
      ]
     },
     "execution_count": 17,
     "metadata": {},
     "output_type": "execute_result"
    }
   ],
   "source": [
    "df"
   ]
  },
  {
   "cell_type": "markdown",
   "metadata": {
    "id": "OH2eKXjcakpR"
   },
   "source": [
    "#### Question 4.2: Compute the correlation between the number of tags and the average rating of videos"
   ]
  },
  {
   "cell_type": "code",
   "execution_count": 18,
   "metadata": {
    "id": "TzRxWzRXakpR"
   },
   "outputs": [
    {
     "name": "stdout",
     "output_type": "stream",
     "text": [
      "Correlation between Number of tags and Average rating: 0.10015446234832732\n"
     ]
    }
   ],
   "source": [
    "correlation = df['Number of tags'].corr(df['average_rating'])\n",
    "print(\"Correlation between Number of tags and Average rating:\", correlation)"
   ]
  },
  {
   "cell_type": "markdown",
   "metadata": {
    "id": "4T_X5nqlakpR"
   },
   "source": [
    "#### Question 4.3: Compute the correlation between the length of the title and the average rating of videos"
   ]
  },
  {
   "cell_type": "code",
   "execution_count": 19,
   "metadata": {
    "id": "dil7iu4iakpR"
   },
   "outputs": [],
   "source": [
    "correlation = df['title'].str.len().corr(df['average_rating'])"
   ]
  },
  {
   "cell_type": "code",
   "execution_count": 20,
   "metadata": {},
   "outputs": [
    {
     "data": {
      "text/plain": [
       "-0.0601009890180333"
      ]
     },
     "execution_count": 20,
     "metadata": {},
     "output_type": "execute_result"
    }
   ],
   "source": [
    "correlation"
   ]
  },
  {
   "cell_type": "markdown",
   "metadata": {
    "id": "dugn_inryN-z"
   },
   "source": [
    "### Question 5. Average duration of videos"
   ]
  },
  {
   "cell_type": "markdown",
   "metadata": {
    "id": "TY2dn2JdakpR"
   },
   "source": [
    "#### Question 5.1: Compute the average duration of videos each year."
   ]
  },
  {
   "cell_type": "code",
   "execution_count": 21,
   "metadata": {
    "id": "fOaZ7vujakpR"
   },
   "outputs": [
    {
     "data": {
      "text/html": [
       "<div>\n",
       "<style scoped>\n",
       "    .dataframe tbody tr th:only-of-type {\n",
       "        vertical-align: middle;\n",
       "    }\n",
       "\n",
       "    .dataframe tbody tr th {\n",
       "        vertical-align: top;\n",
       "    }\n",
       "\n",
       "    .dataframe thead tr th {\n",
       "        text-align: left;\n",
       "    }\n",
       "\n",
       "    .dataframe thead tr:last-of-type th {\n",
       "        text-align: right;\n",
       "    }\n",
       "</style>\n",
       "<table border=\"1\" class=\"dataframe\">\n",
       "  <thead>\n",
       "    <tr>\n",
       "      <th></th>\n",
       "      <th>duration</th>\n",
       "    </tr>\n",
       "    <tr>\n",
       "      <th></th>\n",
       "      <th>mean</th>\n",
       "    </tr>\n",
       "    <tr>\n",
       "      <th>year</th>\n",
       "      <th></th>\n",
       "    </tr>\n",
       "  </thead>\n",
       "  <tbody>\n",
       "    <tr>\n",
       "      <th>2005</th>\n",
       "      <td>230.00</td>\n",
       "    </tr>\n",
       "    <tr>\n",
       "      <th>2006</th>\n",
       "      <td>85.57</td>\n",
       "    </tr>\n",
       "    <tr>\n",
       "      <th>2007</th>\n",
       "      <td>230.24</td>\n",
       "    </tr>\n",
       "    <tr>\n",
       "      <th>2008</th>\n",
       "      <td>158.31</td>\n",
       "    </tr>\n",
       "    <tr>\n",
       "      <th>2009</th>\n",
       "      <td>265.65</td>\n",
       "    </tr>\n",
       "    <tr>\n",
       "      <th>2010</th>\n",
       "      <td>412.19</td>\n",
       "    </tr>\n",
       "    <tr>\n",
       "      <th>2011</th>\n",
       "      <td>484.65</td>\n",
       "    </tr>\n",
       "    <tr>\n",
       "      <th>2012</th>\n",
       "      <td>548.75</td>\n",
       "    </tr>\n",
       "    <tr>\n",
       "      <th>2013</th>\n",
       "      <td>676.89</td>\n",
       "    </tr>\n",
       "    <tr>\n",
       "      <th>2014</th>\n",
       "      <td>731.04</td>\n",
       "    </tr>\n",
       "    <tr>\n",
       "      <th>2015</th>\n",
       "      <td>817.75</td>\n",
       "    </tr>\n",
       "    <tr>\n",
       "      <th>2016</th>\n",
       "      <td>785.20</td>\n",
       "    </tr>\n",
       "    <tr>\n",
       "      <th>2017</th>\n",
       "      <td>896.68</td>\n",
       "    </tr>\n",
       "    <tr>\n",
       "      <th>2018</th>\n",
       "      <td>1191.10</td>\n",
       "    </tr>\n",
       "    <tr>\n",
       "      <th>2019</th>\n",
       "      <td>1239.98</td>\n",
       "    </tr>\n",
       "  </tbody>\n",
       "</table>\n",
       "</div>"
      ],
      "text/plain": [
       "     duration\n",
       "         mean\n",
       "year         \n",
       "2005   230.00\n",
       "2006    85.57\n",
       "2007   230.24\n",
       "2008   158.31\n",
       "2009   265.65\n",
       "2010   412.19\n",
       "2011   484.65\n",
       "2012   548.75\n",
       "2013   676.89\n",
       "2014   731.04\n",
       "2015   817.75\n",
       "2016   785.20\n",
       "2017   896.68\n",
       "2018  1191.10\n",
       "2019  1239.98"
      ]
     },
     "execution_count": 21,
     "metadata": {},
     "output_type": "execute_result"
    }
   ],
   "source": [
    "df.groupby(\"year\").agg({'duration': ['mean']})"
   ]
  },
  {
   "cell_type": "markdown",
   "metadata": {
    "id": "A1ruy4BuakpR"
   },
   "source": [
    "#### Question 5.2: Plot the average duration of video per year for both categories on the same plot."
   ]
  },
  {
   "cell_type": "code",
   "execution_count": 22,
   "metadata": {
    "id": "lFmlIqrZzCsW"
   },
   "outputs": [
    {
     "data": {
      "text/plain": [
       "<AxesSubplot:xlabel='year', ylabel='duration'>"
      ]
     },
     "execution_count": 22,
     "metadata": {},
     "output_type": "execute_result"
    },
    {
     "data": {
      "image/png": "[encoded data removed]",
      "text/plain": [
       "<Figure size 1100x700 with 1 Axes>"
      ]
     },
     "metadata": {},
     "output_type": "display_data"
    }
   ],
   "source": [
    "fig=plt.figure(figsize=(11,7))\n",
    "sns.lineplot(x=\"year\", y=\"duration\", data=df, hue='channel_cat', ci=None)"
   ]
  },
  {
   "cell_type": "markdown",
   "metadata": {
    "id": "y6Q9dfLR2MgP"
   },
   "source": [
    "## PART II - CLASSIFICATION\n",
    "For the second part, we will use a bank related dataset.   \n",
    "The dataset contains information on a company's employees such as:\n",
    "\n",
    "* customer ID\n",
    "* customer age\n",
    "* gender\n",
    "* education level\n",
    "* marital status\n",
    "* income category\n",
    "* credit limit\n",
    "* ...\n"
   ]
  },
  {
   "cell_type": "code",
   "execution_count": 23,
   "metadata": {
    "id": "mA4CCMXlakpY"
   },
   "outputs": [],
   "source": [
    "# All necessary imports\n",
    "# You should not need additonal packages for this part but you can import any package you want\n",
    "\n",
    "from sklearn.cluster import KMeans\n",
    "import pandas as pd\n",
    "import numpy as np\n",
    "import plotly.express as px\n",
    "import matplotlib.pyplot as plt\n",
    "import seaborn as sns\n",
    "\n",
    "%matplotlib inline\n",
    "sns.set_style('darkgrid')\n",
    "\n",
    "# Do not change the following line\n",
    "pd.set_option('display.float_format', lambda x: '%.2f' % x)"
   ]
  },
  {
   "cell_type": "markdown",
   "metadata": {
    "id": "CvQO4CRQakpY"
   },
   "source": [
    "### Load the data"
   ]
  },
  {
   "cell_type": "markdown",
   "metadata": {
    "id": "roEwBAj6akpY"
   },
   "source": [
    "Load the dataset in a dataframe called `df` and visualise the first 5 rows."
   ]
  },
  {
   "cell_type": "code",
   "execution_count": 24,
   "metadata": {
    "id": "KG9EaI4yakpY"
   },
   "outputs": [
    {
     "data": {
      "text/html": [
       "<div>\n",
       "<style scoped>\n",
       "    .dataframe tbody tr th:only-of-type {\n",
       "        vertical-align: middle;\n",
       "    }\n",
       "\n",
       "    .dataframe tbody tr th {\n",
       "        vertical-align: top;\n",
       "    }\n",
       "\n",
       "    .dataframe thead th {\n",
       "        text-align: right;\n",
       "    }\n",
       "</style>\n",
       "<table border=\"1\" class=\"dataframe\">\n",
       "  <thead>\n",
       "    <tr style=\"text-align: right;\">\n",
       "      <th></th>\n",
       "      <th>CustomerID</th>\n",
       "      <th>Customer_Age</th>\n",
       "      <th>Gender</th>\n",
       "      <th>Dependent_count</th>\n",
       "      <th>Education_Level</th>\n",
       "      <th>Marital_Status</th>\n",
       "      <th>Income_Category</th>\n",
       "      <th>Months_on_book</th>\n",
       "      <th>Total_Relationship_Count</th>\n",
       "      <th>Months_Inactive_12_mon</th>\n",
       "      <th>Contacts_Count_12_mon</th>\n",
       "      <th>Credit_Limit</th>\n",
       "      <th>Total_Revolving_Bal</th>\n",
       "      <th>Avg_Open_To_Buy</th>\n",
       "      <th>Total_Amt_Chng_Q4_Q1</th>\n",
       "      <th>Total_Trans_Amt</th>\n",
       "      <th>Total_Trans_Ct</th>\n",
       "      <th>Total_Ct_Chng_Q4_Q1</th>\n",
       "      <th>Avg_Utilization_Ratio</th>\n",
       "      <th>CustomerID.1</th>\n",
       "    </tr>\n",
       "  </thead>\n",
       "  <tbody>\n",
       "    <tr>\n",
       "      <th>20818</th>\n",
       "      <td>77902738</td>\n",
       "      <td>57</td>\n",
       "      <td>M</td>\n",
       "      <td>1</td>\n",
       "      <td>High School</td>\n",
       "      <td>Single</td>\n",
       "      <td>$80K - $120K</td>\n",
       "      <td>53</td>\n",
       "      <td>4</td>\n",
       "      <td>1</td>\n",
       "      <td>3</td>\n",
       "      <td>7976.01</td>\n",
       "      <td>585</td>\n",
       "      <td>7391.01</td>\n",
       "      <td>0.94</td>\n",
       "      <td>4082</td>\n",
       "      <td>74</td>\n",
       "      <td>0.69</td>\n",
       "      <td>0.09</td>\n",
       "      <td>77911303</td>\n",
       "    </tr>\n",
       "    <tr>\n",
       "      <th>9770</th>\n",
       "      <td>77900403</td>\n",
       "      <td>43</td>\n",
       "      <td>M</td>\n",
       "      <td>3</td>\n",
       "      <td>Graduate</td>\n",
       "      <td>Single</td>\n",
       "      <td>$60K - $80K</td>\n",
       "      <td>33</td>\n",
       "      <td>4</td>\n",
       "      <td>2</td>\n",
       "      <td>3</td>\n",
       "      <td>6854.01</td>\n",
       "      <td>0</td>\n",
       "      <td>6853.99</td>\n",
       "      <td>0.70</td>\n",
       "      <td>4578</td>\n",
       "      <td>72</td>\n",
       "      <td>0.76</td>\n",
       "      <td>0.00</td>\n",
       "      <td>77900255</td>\n",
       "    </tr>\n",
       "    <tr>\n",
       "      <th>9017</th>\n",
       "      <td>77908073</td>\n",
       "      <td>43</td>\n",
       "      <td>F</td>\n",
       "      <td>5</td>\n",
       "      <td>High School</td>\n",
       "      <td>Single</td>\n",
       "      <td>Less than $40K</td>\n",
       "      <td>33</td>\n",
       "      <td>6</td>\n",
       "      <td>2</td>\n",
       "      <td>2</td>\n",
       "      <td>4976.00</td>\n",
       "      <td>866</td>\n",
       "      <td>4109.99</td>\n",
       "      <td>0.98</td>\n",
       "      <td>4317</td>\n",
       "      <td>69</td>\n",
       "      <td>0.56</td>\n",
       "      <td>0.17</td>\n",
       "      <td>77899502</td>\n",
       "    </tr>\n",
       "    <tr>\n",
       "      <th>12829</th>\n",
       "      <td>77900589</td>\n",
       "      <td>45</td>\n",
       "      <td>M</td>\n",
       "      <td>3</td>\n",
       "      <td>High School</td>\n",
       "      <td>Married</td>\n",
       "      <td>$60K - $80K</td>\n",
       "      <td>37</td>\n",
       "      <td>5</td>\n",
       "      <td>1</td>\n",
       "      <td>2</td>\n",
       "      <td>4995.02</td>\n",
       "      <td>1766</td>\n",
       "      <td>3229.00</td>\n",
       "      <td>0.77</td>\n",
       "      <td>4389</td>\n",
       "      <td>82</td>\n",
       "      <td>0.86</td>\n",
       "      <td>0.36</td>\n",
       "      <td>77903314</td>\n",
       "    </tr>\n",
       "    <tr>\n",
       "      <th>19953</th>\n",
       "      <td>77898929</td>\n",
       "      <td>44</td>\n",
       "      <td>M</td>\n",
       "      <td>3</td>\n",
       "      <td>Unknown</td>\n",
       "      <td>Married</td>\n",
       "      <td>$60K - $80K</td>\n",
       "      <td>37</td>\n",
       "      <td>3</td>\n",
       "      <td>2</td>\n",
       "      <td>3</td>\n",
       "      <td>6223.99</td>\n",
       "      <td>0</td>\n",
       "      <td>6224.00</td>\n",
       "      <td>0.74</td>\n",
       "      <td>1463</td>\n",
       "      <td>34</td>\n",
       "      <td>0.88</td>\n",
       "      <td>0.01</td>\n",
       "      <td>77910438</td>\n",
       "    </tr>\n",
       "  </tbody>\n",
       "</table>\n",
       "</div>"
      ],
      "text/plain": [
       "       CustomerID  Customer_Age Gender  Dependent_count Education_Level  \\\n",
       "20818    77902738            57      M                1     High School   \n",
       "9770     77900403            43      M                3        Graduate   \n",
       "9017     77908073            43      F                5     High School   \n",
       "12829    77900589            45      M                3     High School   \n",
       "19953    77898929            44      M                3         Unknown   \n",
       "\n",
       "      Marital_Status Income_Category  Months_on_book  \\\n",
       "20818         Single    $80K - $120K              53   \n",
       "9770          Single     $60K - $80K              33   \n",
       "9017          Single  Less than $40K              33   \n",
       "12829        Married     $60K - $80K              37   \n",
       "19953        Married     $60K - $80K              37   \n",
       "\n",
       "       Total_Relationship_Count  Months_Inactive_12_mon  \\\n",
       "20818                         4                       1   \n",
       "9770                          4                       2   \n",
       "9017                          6                       2   \n",
       "12829                         5                       1   \n",
       "19953                         3                       2   \n",
       "\n",
       "       Contacts_Count_12_mon  Credit_Limit  Total_Revolving_Bal  \\\n",
       "20818                      3       7976.01                  585   \n",
       "9770                       3       6854.01                    0   \n",
       "9017                       2       4976.00                  866   \n",
       "12829                      2       4995.02                 1766   \n",
       "19953                      3       6223.99                    0   \n",
       "\n",
       "       Avg_Open_To_Buy  Total_Amt_Chng_Q4_Q1  Total_Trans_Amt  Total_Trans_Ct  \\\n",
       "20818          7391.01                  0.94             4082              74   \n",
       "9770           6853.99                  0.70             4578              72   \n",
       "9017           4109.99                  0.98             4317              69   \n",
       "12829          3229.00                  0.77             4389              82   \n",
       "19953          6224.00                  0.74             1463              34   \n",
       "\n",
       "       Total_Ct_Chng_Q4_Q1  Avg_Utilization_Ratio  CustomerID.1  \n",
       "20818                 0.69                   0.09      77911303  \n",
       "9770                  0.76                   0.00      77900255  \n",
       "9017                  0.56                   0.17      77899502  \n",
       "12829                 0.86                   0.36      77903314  \n",
       "19953                 0.88                   0.01      77910438  "
      ]
     },
     "execution_count": 24,
     "metadata": {},
     "output_type": "execute_result"
    }
   ],
   "source": [
    "# Load the data\n",
    "df = pd.read_csv('https://storage.googleapis.com/bia-assignment/bank_data.csv')\n",
    "\n",
    "df.sample(5)"
   ]
  },
  {
   "cell_type": "markdown",
   "metadata": {
    "id": "5SI44vMlakpY"
   },
   "source": [
    "### Question 1: Data Exploration"
   ]
  },
  {
   "cell_type": "markdown",
   "metadata": {
    "id": "pQIaLVBPakpZ"
   },
   "source": [
    "#### Question 1.1 Create an historgam of the Education_Level column to get a sense of the data distribution for this column. What is the most common education level of the customers?"
   ]
  },
  {
   "cell_type": "code",
   "execution_count": 25,
   "metadata": {},
   "outputs": [
    {
     "data": {
      "image/png": "[encoded data removed]",
      "text/plain": [
       "<Figure size 800x600 with 1 Axes>"
      ]
     },
     "metadata": {},
     "output_type": "display_data"
    }
   ],
   "source": [
    "plt.figure(figsize=(8, 6))\n",
    "sns.countplot(data=df, x='Education_Level')\n",
    "plt.title('Education Level Distribution')\n",
    "plt.xlabel('Education Level')\n",
    "plt.ylabel('Count')\n",
    "plt.show()"
   ]
  },
  {
   "cell_type": "code",
   "execution_count": 26,
   "metadata": {
    "id": "jqSP8nItakpZ",
    "scrolled": false
   },
   "outputs": [
    {
     "data": {
      "text/plain": [
       "<seaborn.axisgrid.FacetGrid at 0x2838538b820>"
      ]
     },
     "execution_count": 26,
     "metadata": {},
     "output_type": "execute_result"
    },
    {
     "data": {
      "text/plain": [
       "<Figure size 800x600 with 0 Axes>"
      ]
     },
     "metadata": {},
     "output_type": "display_data"
    },
    {
     "data": {
      "image/png": "[encoded data removed]",
      "text/plain": [
       "<Figure size 500x500 with 1 Axes>"
      ]
     },
     "metadata": {},
     "output_type": "display_data"
    }
   ],
   "source": [
    "fig=plt.figure(figsize=(8,6))\n",
    "sns.displot(df.Education_Level)"
   ]
  },
  {
   "cell_type": "markdown",
   "metadata": {},
   "source": [
    "**Most common education level: Graduate**"
   ]
  },
  {
   "cell_type": "markdown",
   "metadata": {
    "id": "vDDK3LzzakpZ"
   },
   "source": [
    "#### Question 1.2 What is the age distribution of the people from the dataset ? Plot its distribution.\n",
    "__Hint :__ Plot histogram from the _Customer_Age_ feature."
   ]
  },
  {
   "cell_type": "code",
   "execution_count": 27,
   "metadata": {
    "id": "t_nU5Np7akpZ"
   },
   "outputs": [
    {
     "data": {
      "image/png": "[encoded data removed]",
      "text/plain": [
       "<Figure size 800x600 with 1 Axes>"
      ]
     },
     "metadata": {},
     "output_type": "display_data"
    }
   ],
   "source": [
    "plt.figure(figsize=(8, 6))\n",
    "sns.histplot(data=df, x='Customer_Age', bins=20)\n",
    "plt.title('Age Distribution')\n",
    "plt.xlabel('Age')\n",
    "plt.ylabel('Count')\n",
    "plt.show()"
   ]
  },
  {
   "cell_type": "markdown",
   "metadata": {
    "id": "GPYxFRiNakpZ"
   },
   "source": [
    "#### Question 1.3 Does the data distribution for the Customer_Age column look to follow a normal distribution? Compute the mean, standard deviation, skewness and kurtosis of the distribution.\n",
    "__Hint :__ You may want to use the [`skew()`](https://docs.scipy.org/doc/scipy/reference/generated/scipy.stats.skew.html) function from the scipy library. For the kurtosis, you can use the [`kurtosis()`](https://docs.scipy.org/doc/scipy/reference/generated/scipy.stats.kurtosis.html) function. <br>\n",
    "If you want to test the normality of the distribution, you can use tjhe ktest function from the scipy library. For example, to test if the distribution of the Customer_Age column is normal, you can use the following code:\n",
    "```python\n",
    "from scipy.stats import kstest\n",
    "kstest(df['column_tot_test'], 'norm')\n",
    "```\n",
    "Another alternative is to use jarque_bera test from the statsmodels library. You can refer to the documentation for more information on how to use it on the following link: https://www.statsmodels.org/stable/generated/statsmodels.stats.stattools.jarque_bera.html\n",
    "\n",
    "The skewness and kurtosis of a normal distribution are respectively 0 and 3. If the skewness is between -0.5 and 0.5, the data are fairly symmetrical. If the skewness is between -1 and – 0.5 or between 0.5 and 1, the data are moderately skewed. If the skewness is less than -1 or greater than 1, the data are highly skewed. A negative skewness indicates that the tail on the left side of the distribution is longer or fatter. A positive skewness indicates that the tail on the right side is longer or fatter. The kurtosis is a measure of whether the data are heavy-tailed or light-tailed relative to a normal distribution. That is, data sets with high kurtosis tend to have heavy tails, or outliers. Data sets with low kurtosis tend to have light tails, or lack of outliers. A uniform distribution would be the extreme case."
   ]
  },
  {
   "cell_type": "code",
   "execution_count": 28,
   "metadata": {},
   "outputs": [],
   "source": [
    "import pandas as pd\n",
    "from scipy.stats import skew, kurtosis, kstest"
   ]
  },
  {
   "cell_type": "code",
   "execution_count": 29,
   "metadata": {
    "id": "2smzn3LsakpZ"
   },
   "outputs": [
    {
     "name": "stdout",
     "output_type": "stream",
     "text": [
      "Mean: 46.46480389403725\n",
      "Standard Deviation: 7.871644753905053\n",
      "Skewness: -0.05106729780832556\n",
      "Kurtosis: -0.29815371616534003\n",
      "kstest: p-value = 0.0\n"
     ]
    }
   ],
   "source": [
    "# Compute mean and standard deviation\n",
    "mean_age = df['Customer_Age'].mean()\n",
    "std_age = df['Customer_Age'].std()\n",
    "\n",
    "# Compute skewness and kurtosis\n",
    "skewness = skew(df['Customer_Age'])\n",
    "kurt = kurtosis(df['Customer_Age'])\n",
    "\n",
    "# Test normality using the Kolmogorov-Smirnov test\n",
    "ks_test = kstest(df['Customer_Age'], 'norm')\n",
    "\n",
    "# Print the results\n",
    "print(f\"Mean: {mean_age}\")\n",
    "print(f\"Standard Deviation: {std_age}\")\n",
    "print(f\"Skewness: {skewness}\")\n",
    "print(f\"Kurtosis: {kurt}\")\n",
    "print(f\"kstest: p-value = {ks_test.pvalue}\")"
   ]
  },
  {
   "cell_type": "markdown",
   "metadata": {},
   "source": [
    "***- By looking at the skewness, we can assert that the data is fairly symmetrical.***\n",
    "\n",
    "***- By looking at the Kurtosis, we can assert that the data is light tailed.***\n",
    "\n",
    "***- The kstest suggests that we reject the null hypothesis that the distribution is normal.***"
   ]
  },
  {
   "cell_type": "markdown",
   "metadata": {
    "id": "kfgUQbJxakpZ"
   },
   "source": [
    "### Question 2. Convert categrocial columns to numerical\n",
    "At this point, we will change some of the values in the dataset in order be able to work with these features. <br>\n",
    "Indeed a clustering algorithm is based on distances between the data points. Therefore, we need to have numeric values instead of categorical variables.<br>\n",
    "\n",
    "For this reason, we will perform the following mapping:\n",
    "- We will map `Men` to 0 and `Female` to 1 of the column `Gender`\n",
    "- We will also convert the `Income_Category` to a numeric value, where we will assume that the higher the income, the more likely the customer is to have a credit card. You should do the following mapping:\n",
    "\n",
    "| Categorical Value (to be replaced)     | Numerical Value (new value to overwrite the categorical variable)     |\n",
    "| -----------       | -----------   |\n",
    "| 'Unknown'         |  -1           | \n",
    "| '$120K +'         |  120          | \n",
    "| '$80K - $120K'    |  80           | \n",
    "| '$60K - $80K'     | 60            |\n",
    "| '$40K - $60K'     | 40            |\n",
    "| 'Less than $40K'  | 0             | \n",
    "\n",
    "- We will also convert the `Education_Level` to a numeric value, where we will assume that the higher the education level, the more likely the customer is to have a credit card. Here again, you should respect the following convention:\n",
    "\n",
    "| Categorical Value (to be replaced)     | Numerical Value (new value to overwrite the categorical variable)     |\n",
    "| -----------       | -----------   |\n",
    "| 'Unknown'         |  -1           | \n",
    "| 'Uneducated'      |   1           | \n",
    "| 'High School'     |  2            | \n",
    "| 'College'         | 3             |\n",
    "| 'Graduate'        | 4             |\n",
    "| 'Post-Graduate'   | 5             | \n",
    "| 'Doctorate'       | 6             | \n",
    "\n",
    "**Hint :** You may want to use the [`map()`](https://pandas.pydata.org/pandas-docs/stable/reference/api/pandas.Series.map.html) function applied to a column of a dataframe."
   ]
  },
  {
   "cell_type": "code",
   "execution_count": 49,
   "metadata": {
    "id": "DSV2j7rzakpZ"
   },
   "outputs": [],
   "source": [
    "df.Gender=df.Gender.map({'M': 0, 'F':1})\n",
    "df.Income_Category=df.Income_Category.map({'$120K +' : 120,\n",
    "                        '$40K - $60K': 40,\n",
    "                        '$60K - $80K' : 60,\n",
    "                        '$80K - $120K':80,\n",
    "                        'Less than $40K':0,\n",
    "                        'Unknown':-1})\n",
    "df.Education_Level=df.Education_Level.map({'Unknown':-1,\n",
    "                        'Uneducated':1,\n",
    "                        'High School':2,\n",
    "                        'College':3,\n",
    "                        'Graduate':4,\n",
    "                        'Post-Graduate':5,\n",
    "                        'Doctorate':6})"
   ]
  },
  {
   "cell_type": "code",
   "execution_count": 51,
   "metadata": {
    "id": "Vt6twJOmakpa"
   },
   "outputs": [
    {
     "data": {
      "text/html": [
       "<div>\n",
       "<style scoped>\n",
       "    .dataframe tbody tr th:only-of-type {\n",
       "        vertical-align: middle;\n",
       "    }\n",
       "\n",
       "    .dataframe tbody tr th {\n",
       "        vertical-align: top;\n",
       "    }\n",
       "\n",
       "    .dataframe thead th {\n",
       "        text-align: right;\n",
       "    }\n",
       "</style>\n",
       "<table border=\"1\" class=\"dataframe\">\n",
       "  <thead>\n",
       "    <tr style=\"text-align: right;\">\n",
       "      <th></th>\n",
       "      <th>Customer_Age</th>\n",
       "      <th>Gender</th>\n",
       "      <th>Income_Category</th>\n",
       "      <th>Education_Level</th>\n",
       "      <th>Credit_Limit</th>\n",
       "    </tr>\n",
       "  </thead>\n",
       "  <tbody>\n",
       "    <tr>\n",
       "      <th>0</th>\n",
       "      <td>49</td>\n",
       "      <td>0</td>\n",
       "      <td>120</td>\n",
       "      <td>2</td>\n",
       "      <td>21143.99</td>\n",
       "    </tr>\n",
       "    <tr>\n",
       "      <th>1</th>\n",
       "      <td>42</td>\n",
       "      <td>1</td>\n",
       "      <td>0</td>\n",
       "      <td>4</td>\n",
       "      <td>1853.01</td>\n",
       "    </tr>\n",
       "    <tr>\n",
       "      <th>2</th>\n",
       "      <td>53</td>\n",
       "      <td>1</td>\n",
       "      <td>40</td>\n",
       "      <td>4</td>\n",
       "      <td>9815.01</td>\n",
       "    </tr>\n",
       "    <tr>\n",
       "      <th>3</th>\n",
       "      <td>63</td>\n",
       "      <td>1</td>\n",
       "      <td>0</td>\n",
       "      <td>2</td>\n",
       "      <td>2270.99</td>\n",
       "    </tr>\n",
       "    <tr>\n",
       "      <th>4</th>\n",
       "      <td>51</td>\n",
       "      <td>0</td>\n",
       "      <td>60</td>\n",
       "      <td>-1</td>\n",
       "      <td>4248.01</td>\n",
       "    </tr>\n",
       "    <tr>\n",
       "      <th>...</th>\n",
       "      <td>...</td>\n",
       "      <td>...</td>\n",
       "      <td>...</td>\n",
       "      <td>...</td>\n",
       "      <td>...</td>\n",
       "    </tr>\n",
       "    <tr>\n",
       "      <th>21361</th>\n",
       "      <td>56</td>\n",
       "      <td>1</td>\n",
       "      <td>0</td>\n",
       "      <td>4</td>\n",
       "      <td>3088.01</td>\n",
       "    </tr>\n",
       "    <tr>\n",
       "      <th>21362</th>\n",
       "      <td>50</td>\n",
       "      <td>0</td>\n",
       "      <td>120</td>\n",
       "      <td>4</td>\n",
       "      <td>20957.98</td>\n",
       "    </tr>\n",
       "    <tr>\n",
       "      <th>21363</th>\n",
       "      <td>46</td>\n",
       "      <td>0</td>\n",
       "      <td>40</td>\n",
       "      <td>1</td>\n",
       "      <td>9149.00</td>\n",
       "    </tr>\n",
       "    <tr>\n",
       "      <th>21364</th>\n",
       "      <td>53</td>\n",
       "      <td>0</td>\n",
       "      <td>120</td>\n",
       "      <td>-1</td>\n",
       "      <td>34516.02</td>\n",
       "    </tr>\n",
       "    <tr>\n",
       "      <th>21365</th>\n",
       "      <td>43</td>\n",
       "      <td>0</td>\n",
       "      <td>120</td>\n",
       "      <td>-1</td>\n",
       "      <td>14881.01</td>\n",
       "    </tr>\n",
       "  </tbody>\n",
       "</table>\n",
       "<p>21366 rows × 5 columns</p>\n",
       "</div>"
      ],
      "text/plain": [
       "       Customer_Age  Gender  Income_Category  Education_Level  Credit_Limit\n",
       "0                49       0              120                2      21143.99\n",
       "1                42       1                0                4       1853.01\n",
       "2                53       1               40                4       9815.01\n",
       "3                63       1                0                2       2270.99\n",
       "4                51       0               60               -1       4248.01\n",
       "...             ...     ...              ...              ...           ...\n",
       "21361            56       1                0                4       3088.01\n",
       "21362            50       0              120                4      20957.98\n",
       "21363            46       0               40                1       9149.00\n",
       "21364            53       0              120               -1      34516.02\n",
       "21365            43       0              120               -1      14881.01\n",
       "\n",
       "[21366 rows x 5 columns]"
      ]
     },
     "execution_count": 51,
     "metadata": {},
     "output_type": "execute_result"
    }
   ],
   "source": [
    "# Here we drop all rows with missing values\n",
    "df[['Customer_Age' , 'Gender', 'Income_Category', 'Education_Level', 'Credit_Limit']].dropna(axis=0, how='any')\n",
    "# We can see that there are no missing values in the columns we are interested in as the number of rows is the same as before"
   ]
  },
  {
   "cell_type": "code",
   "execution_count": 52,
   "metadata": {
    "id": "_88WtJeTakpa"
   },
   "outputs": [
    {
     "data": {
      "text/html": [
       "<div>\n",
       "<style scoped>\n",
       "    .dataframe tbody tr th:only-of-type {\n",
       "        vertical-align: middle;\n",
       "    }\n",
       "\n",
       "    .dataframe tbody tr th {\n",
       "        vertical-align: top;\n",
       "    }\n",
       "\n",
       "    .dataframe thead th {\n",
       "        text-align: right;\n",
       "    }\n",
       "</style>\n",
       "<table border=\"1\" class=\"dataframe\">\n",
       "  <thead>\n",
       "    <tr style=\"text-align: right;\">\n",
       "      <th></th>\n",
       "      <th>CustomerID</th>\n",
       "      <th>Customer_Age</th>\n",
       "      <th>Gender</th>\n",
       "      <th>Dependent_count</th>\n",
       "      <th>Education_Level</th>\n",
       "      <th>Income_Category</th>\n",
       "      <th>Months_on_book</th>\n",
       "      <th>Total_Relationship_Count</th>\n",
       "      <th>Months_Inactive_12_mon</th>\n",
       "      <th>Contacts_Count_12_mon</th>\n",
       "      <th>Credit_Limit</th>\n",
       "      <th>Total_Revolving_Bal</th>\n",
       "      <th>Avg_Open_To_Buy</th>\n",
       "      <th>Total_Amt_Chng_Q4_Q1</th>\n",
       "      <th>Total_Trans_Amt</th>\n",
       "      <th>Total_Trans_Ct</th>\n",
       "      <th>Total_Ct_Chng_Q4_Q1</th>\n",
       "      <th>Avg_Utilization_Ratio</th>\n",
       "      <th>CustomerID.1</th>\n",
       "    </tr>\n",
       "  </thead>\n",
       "  <tbody>\n",
       "    <tr>\n",
       "      <th>0</th>\n",
       "      <td>77893100</td>\n",
       "      <td>49</td>\n",
       "      <td>0</td>\n",
       "      <td>2</td>\n",
       "      <td>2</td>\n",
       "      <td>120</td>\n",
       "      <td>42</td>\n",
       "      <td>3</td>\n",
       "      <td>2</td>\n",
       "      <td>4</td>\n",
       "      <td>21143.99</td>\n",
       "      <td>1190</td>\n",
       "      <td>19954.01</td>\n",
       "      <td>0.50</td>\n",
       "      <td>4895</td>\n",
       "      <td>66</td>\n",
       "      <td>0.78</td>\n",
       "      <td>0.06</td>\n",
       "      <td>77890485</td>\n",
       "    </tr>\n",
       "    <tr>\n",
       "      <th>1</th>\n",
       "      <td>77906340</td>\n",
       "      <td>42</td>\n",
       "      <td>1</td>\n",
       "      <td>4</td>\n",
       "      <td>4</td>\n",
       "      <td>0</td>\n",
       "      <td>34</td>\n",
       "      <td>3</td>\n",
       "      <td>2</td>\n",
       "      <td>3</td>\n",
       "      <td>1853.01</td>\n",
       "      <td>0</td>\n",
       "      <td>1852.99</td>\n",
       "      <td>0.85</td>\n",
       "      <td>4544</td>\n",
       "      <td>72</td>\n",
       "      <td>0.54</td>\n",
       "      <td>-0.00</td>\n",
       "      <td>77890486</td>\n",
       "    </tr>\n",
       "    <tr>\n",
       "      <th>2</th>\n",
       "      <td>77896672</td>\n",
       "      <td>53</td>\n",
       "      <td>1</td>\n",
       "      <td>5</td>\n",
       "      <td>4</td>\n",
       "      <td>40</td>\n",
       "      <td>41</td>\n",
       "      <td>2</td>\n",
       "      <td>1</td>\n",
       "      <td>3</td>\n",
       "      <td>9815.01</td>\n",
       "      <td>1699</td>\n",
       "      <td>8116.01</td>\n",
       "      <td>0.63</td>\n",
       "      <td>7962</td>\n",
       "      <td>89</td>\n",
       "      <td>0.57</td>\n",
       "      <td>0.18</td>\n",
       "      <td>77890487</td>\n",
       "    </tr>\n",
       "    <tr>\n",
       "      <th>3</th>\n",
       "      <td>77907011</td>\n",
       "      <td>63</td>\n",
       "      <td>1</td>\n",
       "      <td>0</td>\n",
       "      <td>2</td>\n",
       "      <td>0</td>\n",
       "      <td>53</td>\n",
       "      <td>5</td>\n",
       "      <td>3</td>\n",
       "      <td>2</td>\n",
       "      <td>2270.99</td>\n",
       "      <td>1278</td>\n",
       "      <td>992.99</td>\n",
       "      <td>0.37</td>\n",
       "      <td>1550</td>\n",
       "      <td>33</td>\n",
       "      <td>0.67</td>\n",
       "      <td>0.53</td>\n",
       "      <td>77890488</td>\n",
       "    </tr>\n",
       "    <tr>\n",
       "      <th>4</th>\n",
       "      <td>77899573</td>\n",
       "      <td>51</td>\n",
       "      <td>0</td>\n",
       "      <td>1</td>\n",
       "      <td>-1</td>\n",
       "      <td>60</td>\n",
       "      <td>22</td>\n",
       "      <td>2</td>\n",
       "      <td>3</td>\n",
       "      <td>3</td>\n",
       "      <td>4248.01</td>\n",
       "      <td>1177</td>\n",
       "      <td>3071.02</td>\n",
       "      <td>0.83</td>\n",
       "      <td>13958</td>\n",
       "      <td>116</td>\n",
       "      <td>0.78</td>\n",
       "      <td>0.29</td>\n",
       "      <td>77890489</td>\n",
       "    </tr>\n",
       "    <tr>\n",
       "      <th>...</th>\n",
       "      <td>...</td>\n",
       "      <td>...</td>\n",
       "      <td>...</td>\n",
       "      <td>...</td>\n",
       "      <td>...</td>\n",
       "      <td>...</td>\n",
       "      <td>...</td>\n",
       "      <td>...</td>\n",
       "      <td>...</td>\n",
       "      <td>...</td>\n",
       "      <td>...</td>\n",
       "      <td>...</td>\n",
       "      <td>...</td>\n",
       "      <td>...</td>\n",
       "      <td>...</td>\n",
       "      <td>...</td>\n",
       "      <td>...</td>\n",
       "      <td>...</td>\n",
       "      <td>...</td>\n",
       "    </tr>\n",
       "    <tr>\n",
       "      <th>21361</th>\n",
       "      <td>77904816</td>\n",
       "      <td>56</td>\n",
       "      <td>1</td>\n",
       "      <td>5</td>\n",
       "      <td>4</td>\n",
       "      <td>0</td>\n",
       "      <td>36</td>\n",
       "      <td>5</td>\n",
       "      <td>4</td>\n",
       "      <td>4</td>\n",
       "      <td>3088.01</td>\n",
       "      <td>2517</td>\n",
       "      <td>571.00</td>\n",
       "      <td>0.85</td>\n",
       "      <td>2292</td>\n",
       "      <td>54</td>\n",
       "      <td>0.87</td>\n",
       "      <td>0.82</td>\n",
       "      <td>77911846</td>\n",
       "    </tr>\n",
       "    <tr>\n",
       "      <th>21362</th>\n",
       "      <td>77893743</td>\n",
       "      <td>50</td>\n",
       "      <td>0</td>\n",
       "      <td>1</td>\n",
       "      <td>4</td>\n",
       "      <td>120</td>\n",
       "      <td>43</td>\n",
       "      <td>4</td>\n",
       "      <td>5</td>\n",
       "      <td>3</td>\n",
       "      <td>20957.98</td>\n",
       "      <td>0</td>\n",
       "      <td>20957.99</td>\n",
       "      <td>0.78</td>\n",
       "      <td>4425</td>\n",
       "      <td>78</td>\n",
       "      <td>0.69</td>\n",
       "      <td>0.01</td>\n",
       "      <td>77911847</td>\n",
       "    </tr>\n",
       "    <tr>\n",
       "      <th>21363</th>\n",
       "      <td>77896451</td>\n",
       "      <td>46</td>\n",
       "      <td>0</td>\n",
       "      <td>4</td>\n",
       "      <td>1</td>\n",
       "      <td>40</td>\n",
       "      <td>35</td>\n",
       "      <td>3</td>\n",
       "      <td>2</td>\n",
       "      <td>2</td>\n",
       "      <td>9149.00</td>\n",
       "      <td>1566</td>\n",
       "      <td>7582.99</td>\n",
       "      <td>0.97</td>\n",
       "      <td>1790</td>\n",
       "      <td>60</td>\n",
       "      <td>0.78</td>\n",
       "      <td>0.18</td>\n",
       "      <td>77911848</td>\n",
       "    </tr>\n",
       "    <tr>\n",
       "      <th>21364</th>\n",
       "      <td>77892298</td>\n",
       "      <td>53</td>\n",
       "      <td>0</td>\n",
       "      <td>4</td>\n",
       "      <td>-1</td>\n",
       "      <td>120</td>\n",
       "      <td>48</td>\n",
       "      <td>3</td>\n",
       "      <td>3</td>\n",
       "      <td>4</td>\n",
       "      <td>34516.02</td>\n",
       "      <td>278</td>\n",
       "      <td>34238.01</td>\n",
       "      <td>0.82</td>\n",
       "      <td>3029</td>\n",
       "      <td>49</td>\n",
       "      <td>0.41</td>\n",
       "      <td>0.01</td>\n",
       "      <td>77911849</td>\n",
       "    </tr>\n",
       "    <tr>\n",
       "      <th>21365</th>\n",
       "      <td>77890514</td>\n",
       "      <td>43</td>\n",
       "      <td>0</td>\n",
       "      <td>4</td>\n",
       "      <td>-1</td>\n",
       "      <td>120</td>\n",
       "      <td>39</td>\n",
       "      <td>3</td>\n",
       "      <td>3</td>\n",
       "      <td>3</td>\n",
       "      <td>14881.01</td>\n",
       "      <td>848</td>\n",
       "      <td>14033.02</td>\n",
       "      <td>0.76</td>\n",
       "      <td>1408</td>\n",
       "      <td>23</td>\n",
       "      <td>1.10</td>\n",
       "      <td>0.05</td>\n",
       "      <td>77911850</td>\n",
       "    </tr>\n",
       "  </tbody>\n",
       "</table>\n",
       "<p>21366 rows × 19 columns</p>\n",
       "</div>"
      ],
      "text/plain": [
       "       CustomerID  Customer_Age  Gender  Dependent_count  Education_Level  \\\n",
       "0        77893100            49       0                2                2   \n",
       "1        77906340            42       1                4                4   \n",
       "2        77896672            53       1                5                4   \n",
       "3        77907011            63       1                0                2   \n",
       "4        77899573            51       0                1               -1   \n",
       "...           ...           ...     ...              ...              ...   \n",
       "21361    77904816            56       1                5                4   \n",
       "21362    77893743            50       0                1                4   \n",
       "21363    77896451            46       0                4                1   \n",
       "21364    77892298            53       0                4               -1   \n",
       "21365    77890514            43       0                4               -1   \n",
       "\n",
       "       Income_Category  Months_on_book  Total_Relationship_Count  \\\n",
       "0                  120              42                         3   \n",
       "1                    0              34                         3   \n",
       "2                   40              41                         2   \n",
       "3                    0              53                         5   \n",
       "4                   60              22                         2   \n",
       "...                ...             ...                       ...   \n",
       "21361                0              36                         5   \n",
       "21362              120              43                         4   \n",
       "21363               40              35                         3   \n",
       "21364              120              48                         3   \n",
       "21365              120              39                         3   \n",
       "\n",
       "       Months_Inactive_12_mon  Contacts_Count_12_mon  Credit_Limit  \\\n",
       "0                           2                      4      21143.99   \n",
       "1                           2                      3       1853.01   \n",
       "2                           1                      3       9815.01   \n",
       "3                           3                      2       2270.99   \n",
       "4                           3                      3       4248.01   \n",
       "...                       ...                    ...           ...   \n",
       "21361                       4                      4       3088.01   \n",
       "21362                       5                      3      20957.98   \n",
       "21363                       2                      2       9149.00   \n",
       "21364                       3                      4      34516.02   \n",
       "21365                       3                      3      14881.01   \n",
       "\n",
       "       Total_Revolving_Bal  Avg_Open_To_Buy  Total_Amt_Chng_Q4_Q1  \\\n",
       "0                     1190         19954.01                  0.50   \n",
       "1                        0          1852.99                  0.85   \n",
       "2                     1699          8116.01                  0.63   \n",
       "3                     1278           992.99                  0.37   \n",
       "4                     1177          3071.02                  0.83   \n",
       "...                    ...              ...                   ...   \n",
       "21361                 2517           571.00                  0.85   \n",
       "21362                    0         20957.99                  0.78   \n",
       "21363                 1566          7582.99                  0.97   \n",
       "21364                  278         34238.01                  0.82   \n",
       "21365                  848         14033.02                  0.76   \n",
       "\n",
       "       Total_Trans_Amt  Total_Trans_Ct  Total_Ct_Chng_Q4_Q1  \\\n",
       "0                 4895              66                 0.78   \n",
       "1                 4544              72                 0.54   \n",
       "2                 7962              89                 0.57   \n",
       "3                 1550              33                 0.67   \n",
       "4                13958             116                 0.78   \n",
       "...                ...             ...                  ...   \n",
       "21361             2292              54                 0.87   \n",
       "21362             4425              78                 0.69   \n",
       "21363             1790              60                 0.78   \n",
       "21364             3029              49                 0.41   \n",
       "21365             1408              23                 1.10   \n",
       "\n",
       "       Avg_Utilization_Ratio  CustomerID.1  \n",
       "0                       0.06      77890485  \n",
       "1                      -0.00      77890486  \n",
       "2                       0.18      77890487  \n",
       "3                       0.53      77890488  \n",
       "4                       0.29      77890489  \n",
       "...                      ...           ...  \n",
       "21361                   0.82      77911846  \n",
       "21362                   0.01      77911847  \n",
       "21363                   0.18      77911848  \n",
       "21364                   0.01      77911849  \n",
       "21365                   0.05      77911850  \n",
       "\n",
       "[21366 rows x 19 columns]"
      ]
     },
     "execution_count": 52,
     "metadata": {},
     "output_type": "execute_result"
    }
   ],
   "source": [
    "# Keep only numerical columns of the dataframe\n",
    "# These columns are the ones we are interested in as they can be used to cluster the customers\n",
    "\n",
    "df_num = df.select_dtypes(include=np.number)\n",
    "df_num"
   ]
  },
  {
   "cell_type": "markdown",
   "metadata": {
    "id": "7crN8qMUakpa"
   },
   "source": [
    "### Question 3. Use the elbow method to find the optimal number of clusters for following feartures: _Customer_Age, Gender, Income_Category, Education_Level, Credit_Limit_\n",
    "#### Question 3.1 : What is the inertia for 3 and 4 clusters ? (rounded to the nearest integer)\n",
    "Refer to the lab 5 for any help about the methodology. <br>\n",
    "__Hint:__ You should test between 2 to 10 clusters. Also, when you call the `KMeans` function, you should set the `random_state` paramter to 111 and the `n_init` to 50. This will ensure that the results are reproducible."
   ]
  },
  {
   "cell_type": "code",
   "execution_count": 70,
   "metadata": {
    "id": "Z2fqY7JMakpa"
   },
   "outputs": [
    {
     "data": {
      "image/png": "[encoded data removed]",
      "text/plain": [
       "<Figure size 800x500 with 1 Axes>"
      ]
     },
     "metadata": {},
     "output_type": "display_data"
    }
   ],
   "source": [
    "inertia = []\n",
    "k_values = range (2,11)\n",
    "for k in k_values:\n",
    "    model = KMeans(n_clusters=k, random_state=111, n_init=50)\n",
    "    model.fit(df[['Customer_Age' , 'Gender', 'Income_Category', 'Education_Level', 'Credit_Limit']])\n",
    "    inertia.append(model.inertia_)\n",
    "    \n",
    "plt.figure(figsize=(8,5), facecolor =\"grey\")\n",
    "plt.plot(k_values, inertia, marker='o',linestyle='solid')\n",
    "plt.ylabel('Inertia')\n",
    "plt.xlabel('k')\n",
    "plt.show()"
   ]
  },
  {
   "cell_type": "code",
   "execution_count": 71,
   "metadata": {},
   "outputs": [
    {
     "data": {
      "text/plain": [
       "[478774695321.4689,\n",
       " 189440263472.18546,\n",
       " 95572414216.07834,\n",
       " 57838309393.22038,\n",
       " 39358374318.30757,\n",
       " 28265214478.6904,\n",
       " 21597782632.57675,\n",
       " 17285011593.947006,\n",
       " 13950352485.62968]"
      ]
     },
     "execution_count": 71,
     "metadata": {},
     "output_type": "execute_result"
    }
   ],
   "source": [
    "inertia"
   ]
  },
  {
   "cell_type": "markdown",
   "metadata": {
    "id": "cPR2JMvpakpa"
   },
   "source": [
    "### Question 4. Use the elbow method to find the optimal number of clusters for following features: _Income_Category, Education_Level, Months_on_book_\n",
    "#### Question 4.1 : What is the optimal number of cluster for this sub dataset ?\n",
    "Refer to the lab 5 for any help about the methodology. <br>\n",
    "__Hint:__ You should test between 2 to 10 clusters. Also, when you call the `KMeans` function, you should set the `random_state` paramter to 111 and the `n_init` to 50. This will ensure that the results are reproducible."
   ]
  },
  {
   "cell_type": "code",
   "execution_count": 77,
   "metadata": {
    "id": "jQ59rL8makpa"
   },
   "outputs": [
    {
     "data": {
      "image/png": "[encoded data removed]",
      "text/plain": [
       "<Figure size 800x500 with 1 Axes>"
      ]
     },
     "metadata": {},
     "output_type": "display_data"
    }
   ],
   "source": [
    "inertia = []\n",
    "k_values = range (2,11)\n",
    "for k in k_values:\n",
    "    model = KMeans(n_clusters=k, random_state=111, n_init=50)\n",
    "    model.fit(df[['Income_Category', 'Education_Level', 'Months_on_book']])\n",
    "    inertia.append(model.inertia_)\n",
    "    \n",
    "plt.figure(figsize=(8,5), facecolor =\"grey\")\n",
    "plt.plot(k_values, inertia, marker='o',linestyle='solid')\n",
    "plt.ylabel('Inertia')\n",
    "plt.xlabel('k')\n",
    "plt.show()"
   ]
  },
  {
   "cell_type": "markdown",
   "metadata": {},
   "source": []
  },
  {
   "cell_type": "markdown",
   "metadata": {
    "id": "UeIprallakpa"
   },
   "source": [
    "#### Question 4.2 : What is the cluster assignment (cluster ID - varying between 0 and the optimal number found previously) for a person with an income of 120K, a post-graduate degree and 36 months on book?"
   ]
  },
  {
   "cell_type": "code",
   "execution_count": 90,
   "metadata": {
    "id": "MPObcFGPakpa"
   },
   "outputs": [
    {
     "name": "stdout",
     "output_type": "stream",
     "text": [
      "Cluster assignment for the person described above: [0]\n"
     ]
    }
   ],
   "source": [
    "# YOUR CODE HERE\n",
    "model = KMeans(n_clusters=5, random_state=111, n_init=50)\n",
    "model.fit(df[['Income_Category', 'Education_Level', 'Months_on_book']])\n",
    "result = model.predict(pd.DataFrame({'Income_Category': [120], 'Education_Level': [5], 'Months_on_book': [36]}))\n",
    "print(f\"Cluster assignment for the person described above: {result}\")"
   ]
  },
  {
   "cell_type": "markdown",
   "metadata": {
    "id": "lj5sGoy9akpb"
   },
   "source": [
    "#### Question 4.3 : Get the cluster centroid for the person described above.\n",
    "The get the centroid of a cluster, you can use the [`cluster_centers_`](https://scikit-learn.org/stable/modules/generated/sklearn.cluster.KMeans.html) attribute of the KMeans object."
   ]
  },
  {
   "cell_type": "code",
   "execution_count": 100,
   "metadata": {
    "id": "Dwf1Bx_-akpb"
   },
   "outputs": [],
   "source": [
    "# YOUR CODE HERE\n",
    "cluster_center = model.cluster_centers_[result]"
   ]
  },
  {
   "cell_type": "code",
   "execution_count": 101,
   "metadata": {},
   "outputs": [
    {
     "data": {
      "text/plain": [
       "array([[120.        ,   2.33726481,  36.85285032]])"
      ]
     },
     "execution_count": 101,
     "metadata": {},
     "output_type": "execute_result"
    }
   ],
   "source": [
    "cluster_center"
   ]
  }
 ],
 "metadata": {
  "colab": {
   "provenance": []
  },
  "kernelspec": {
   "display_name": "Python 3 (ipykernel)",
   "language": "python",
   "name": "python3"
  },
  "language_info": {
   "codemirror_mode": {
    "name": "ipython",
    "version": 3
   },
   "file_extension": ".py",
   "mimetype": "text/x-python",
   "name": "python",
   "nbconvert_exporter": "python",
   "pygments_lexer": "ipython3",
   "version": "3.9.13"
  },
  "vscode": {
   "interpreter": {
    "hash": "b0cc462c96df3621bcc58e01fadcdf9264a069c5c4bbf07201077bb349d3c6bf"
   }
  }
 },
 "nbformat": 4,
 "nbformat_minor": 1
}
