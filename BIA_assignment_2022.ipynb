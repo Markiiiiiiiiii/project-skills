{
 "cells": [
  {
   "cell_type": "markdown",
   "metadata": {
    "id": "p3-K-6-MakpC"
   },
   "source": [
    "<h1 align=\"center\"> GRADED ASSIGNMENT</h1>\n",
    "\n",
    "<div>\n",
    "<td> \n",
    "<img src=\"https://upload.wikimedia.org/wikipedia/commons/thumb/2/2b/Logo_Universit%C3%A9_de_Lausanne.svg/2000px-Logo_Universit%C3%A9_de_Lausanne.svg.png\" style=\"padding-right:10px;width:240px;float:left\"/></td>\n",
    "<h2 style=\"white-space: nowrap\">Business Intelligence and Analytics</h2></td>\n",
    "<hr style=\"clear:both\">\n",
    "<p style=\"font-size:0.85em; margin:2px; text-align:justify\">\n",
    "\n",
    "</div>"
   ]
  },
  {
   "cell_type": "markdown",
   "metadata": {
    "id": "fqhjIaf-moHf"
   },
   "source": [
    "Welcome to the Assignment! \n",
    "\n",
    "This notebooks contains two **independent** tasks. You will have to complete both tasks to receive a grade.\n",
    "- The first task is about a Youtube video dataset.\n",
    "- The second task is about a financial dataset on credit information of clients\n",
    "\n",
    "In each part, we will provide you with a set of questions. You will have to answer these questions by writing code in the corresponding cells before ansering the quiz questions on Moodle.\n",
    "Then, you will have to perform the following two steps:\n",
    "- Answer the quiz questions on Moodle.\n",
    "- Submit this notebook on Moodle\n",
    "\n",
    "Make sure to follow all instructions carefully.\n",
    "\n",
    "Good luck! 🍀\n",
    "\n",
    "**Note**: Have your notebook with the answers ready for answering the quiz. \n",
    "\n",
    "**Questions**: You can post your questions in Moodle in the dedicated forum. No questions will be answered by email.\n",
    "\n",
    "When creating a question, please make sure to provide a clear description of your problem and the code you have already tried.\n",
    "\n",
    "Also in the object  of the message, use the following format: Part X - Question Y.Z where :\n",
    "- X is the part number,\n",
    "- Y is the question number\n",
    "- Z is the sub-question number."
   ]
  },
  {
   "cell_type": "markdown",
   "metadata": {
    "id": "s9syfj48o8JA"
   },
   "source": [
    "## PART I - DATA CLEANING AND EXPLORATION\n",
    "First a few preliminary steps to set you up. You can execute the cells below to get you started."
   ]
  },
  {
   "cell_type": "code",
   "execution_count": 1,
   "metadata": {
    "id": "KbBjnc2xmnDW"
   },
   "outputs": [],
   "source": [
    "# Import required packages\n",
    "# You should not need additonal packages for this part but you can import any package you want\n",
    "\n",
    "import pandas as pd\n",
    "import numpy as np\n",
    "import matplotlib.pyplot as plt\n",
    "import seaborn as sns\n",
    "\n",
    "%matplotlib inline\n",
    "sns.set_style('darkgrid')\n",
    "\n",
    "# Do not change the following line\n",
    "pd.set_option('display.float_format', lambda x: '%.2f' % x)"
   ]
  },
  {
   "cell_type": "code",
   "execution_count": 2,
   "metadata": {
    "id": "0_wreS36akpJ"
   },
   "outputs": [
    {
     "data": {
      "text/html": [
       "<div>\n",
       "<style scoped>\n",
       "    .dataframe tbody tr th:only-of-type {\n",
       "        vertical-align: middle;\n",
       "    }\n",
       "\n",
       "    .dataframe tbody tr th {\n",
       "        vertical-align: top;\n",
       "    }\n",
       "\n",
       "    .dataframe thead th {\n",
       "        text-align: right;\n",
       "    }\n",
       "</style>\n",
       "<table border=\"1\" class=\"dataframe\">\n",
       "  <thead>\n",
       "    <tr style=\"text-align: right;\">\n",
       "      <th></th>\n",
       "      <th>channel</th>\n",
       "      <th>upload_date</th>\n",
       "      <th>title</th>\n",
       "      <th>tags</th>\n",
       "      <th>duration</th>\n",
       "      <th>view_count</th>\n",
       "      <th>average_rating</th>\n",
       "      <th>height</th>\n",
       "      <th>width</th>\n",
       "      <th>channel_cat</th>\n",
       "    </tr>\n",
       "  </thead>\n",
       "  <tbody>\n",
       "    <tr>\n",
       "      <th>0</th>\n",
       "      <td>PewDiePie</td>\n",
       "      <td>2013-03-04</td>\n",
       "      <td>A NEW ADVENTURE! - Kingdom Hearts (1) w/ Pewds</td>\n",
       "      <td>['lets', 'play', 'horror', 'game', 'walkthroug...</td>\n",
       "      <td>1126.00</td>\n",
       "      <td>2541550.00</td>\n",
       "      <td>4.89</td>\n",
       "      <td>720.00</td>\n",
       "      <td>1280.00</td>\n",
       "      <td>Gaming</td>\n",
       "    </tr>\n",
       "    <tr>\n",
       "      <th>1</th>\n",
       "      <td>PewDiePie</td>\n",
       "      <td>2013-03-04</td>\n",
       "      <td>SAVING PRIVATE PEWDS - Conker's Bad Fur Day (15)</td>\n",
       "      <td>['lets', 'play', 'horror', 'game', 'walkthroug...</td>\n",
       "      <td>903.00</td>\n",
       "      <td>1727646.00</td>\n",
       "      <td>4.95</td>\n",
       "      <td>720.00</td>\n",
       "      <td>1280.00</td>\n",
       "      <td>Gaming</td>\n",
       "    </tr>\n",
       "    <tr>\n",
       "      <th>2</th>\n",
       "      <td>PewDiePie</td>\n",
       "      <td>2013-03-04</td>\n",
       "      <td>THE WORST SCARE! - Amnesia: Rain (4)</td>\n",
       "      <td>['lets', 'play', 'horror', 'game', 'walkthroug...</td>\n",
       "      <td>806.00</td>\n",
       "      <td>1402747.00</td>\n",
       "      <td>4.96</td>\n",
       "      <td>720.00</td>\n",
       "      <td>1280.00</td>\n",
       "      <td>Gaming</td>\n",
       "    </tr>\n",
       "    <tr>\n",
       "      <th>3</th>\n",
       "      <td>PewDiePie</td>\n",
       "      <td>2013-03-03</td>\n",
       "      <td>Nova / Sp00n / Cry / Pewds - Worms Revolution ...</td>\n",
       "      <td>['lets', 'play', 'horror', 'game', 'walkthroug...</td>\n",
       "      <td>909.00</td>\n",
       "      <td>4348296.00</td>\n",
       "      <td>4.94</td>\n",
       "      <td>720.00</td>\n",
       "      <td>1280.00</td>\n",
       "      <td>Gaming</td>\n",
       "    </tr>\n",
       "    <tr>\n",
       "      <th>4</th>\n",
       "      <td>PewDiePie</td>\n",
       "      <td>2013-03-03</td>\n",
       "      <td>SEXIEST HORROR EVER - Amnesia: Rain (3)</td>\n",
       "      <td>['lets', 'play', 'horror', 'game', 'walkthroug...</td>\n",
       "      <td>834.00</td>\n",
       "      <td>1410659.00</td>\n",
       "      <td>4.96</td>\n",
       "      <td>720.00</td>\n",
       "      <td>1280.00</td>\n",
       "      <td>Gaming</td>\n",
       "    </tr>\n",
       "    <tr>\n",
       "      <th>...</th>\n",
       "      <td>...</td>\n",
       "      <td>...</td>\n",
       "      <td>...</td>\n",
       "      <td>...</td>\n",
       "      <td>...</td>\n",
       "      <td>...</td>\n",
       "      <td>...</td>\n",
       "      <td>...</td>\n",
       "      <td>...</td>\n",
       "      <td>...</td>\n",
       "    </tr>\n",
       "    <tr>\n",
       "      <th>139502</th>\n",
       "      <td>cutepolish</td>\n",
       "      <td>2010-02-23</td>\n",
       "      <td>Easy Bride Wedding Nails</td>\n",
       "      <td>['easy', 'makeup', 'beauty', 'fashion']</td>\n",
       "      <td>201.00</td>\n",
       "      <td>284147.00</td>\n",
       "      <td>4.61</td>\n",
       "      <td>480.00</td>\n",
       "      <td>640.00</td>\n",
       "      <td>Howto &amp; Style</td>\n",
       "    </tr>\n",
       "    <tr>\n",
       "      <th>139503</th>\n",
       "      <td>cutepolish</td>\n",
       "      <td>2010-02-22</td>\n",
       "      <td>Purple Flower Nails</td>\n",
       "      <td>['easy', 'makeup', 'beauty', 'fashion', 'tutor...</td>\n",
       "      <td>180.00</td>\n",
       "      <td>136278.00</td>\n",
       "      <td>4.64</td>\n",
       "      <td>480.00</td>\n",
       "      <td>640.00</td>\n",
       "      <td>Howto &amp; Style</td>\n",
       "    </tr>\n",
       "    <tr>\n",
       "      <th>139504</th>\n",
       "      <td>cutepolish</td>\n",
       "      <td>2010-02-21</td>\n",
       "      <td>Domo Kun Nails</td>\n",
       "      <td>['easy', 'makeup', 'beauty', 'fashion']</td>\n",
       "      <td>277.00</td>\n",
       "      <td>228384.00</td>\n",
       "      <td>4.84</td>\n",
       "      <td>480.00</td>\n",
       "      <td>640.00</td>\n",
       "      <td>Howto &amp; Style</td>\n",
       "    </tr>\n",
       "    <tr>\n",
       "      <th>139505</th>\n",
       "      <td>cutepolish</td>\n",
       "      <td>2010-02-20</td>\n",
       "      <td>Easy Plaid Nails</td>\n",
       "      <td>['easy', 'makeup', 'beauty', 'fashion']</td>\n",
       "      <td>174.00</td>\n",
       "      <td>247053.00</td>\n",
       "      <td>4.86</td>\n",
       "      <td>480.00</td>\n",
       "      <td>640.00</td>\n",
       "      <td>Howto &amp; Style</td>\n",
       "    </tr>\n",
       "    <tr>\n",
       "      <th>139506</th>\n",
       "      <td>cutepolish</td>\n",
       "      <td>2010-02-20</td>\n",
       "      <td>Hime Gyaru Nails</td>\n",
       "      <td>['makeup', 'beauty', 'fashion']</td>\n",
       "      <td>329.00</td>\n",
       "      <td>331964.00</td>\n",
       "      <td>4.46</td>\n",
       "      <td>480.00</td>\n",
       "      <td>640.00</td>\n",
       "      <td>Howto &amp; Style</td>\n",
       "    </tr>\n",
       "  </tbody>\n",
       "</table>\n",
       "<p>139507 rows × 10 columns</p>\n",
       "</div>"
      ],
      "text/plain": [
       "           channel upload_date  \\\n",
       "0        PewDiePie  2013-03-04   \n",
       "1        PewDiePie  2013-03-04   \n",
       "2        PewDiePie  2013-03-04   \n",
       "3        PewDiePie  2013-03-03   \n",
       "4        PewDiePie  2013-03-03   \n",
       "...            ...         ...   \n",
       "139502  cutepolish  2010-02-23   \n",
       "139503  cutepolish  2010-02-22   \n",
       "139504  cutepolish  2010-02-21   \n",
       "139505  cutepolish  2010-02-20   \n",
       "139506  cutepolish  2010-02-20   \n",
       "\n",
       "                                                    title  \\\n",
       "0          A NEW ADVENTURE! - Kingdom Hearts (1) w/ Pewds   \n",
       "1        SAVING PRIVATE PEWDS - Conker's Bad Fur Day (15)   \n",
       "2                    THE WORST SCARE! - Amnesia: Rain (4)   \n",
       "3       Nova / Sp00n / Cry / Pewds - Worms Revolution ...   \n",
       "4                 SEXIEST HORROR EVER - Amnesia: Rain (3)   \n",
       "...                                                   ...   \n",
       "139502                           Easy Bride Wedding Nails   \n",
       "139503                                Purple Flower Nails   \n",
       "139504                                     Domo Kun Nails   \n",
       "139505                                   Easy Plaid Nails   \n",
       "139506                                   Hime Gyaru Nails   \n",
       "\n",
       "                                                     tags  duration  \\\n",
       "0       ['lets', 'play', 'horror', 'game', 'walkthroug...   1126.00   \n",
       "1       ['lets', 'play', 'horror', 'game', 'walkthroug...    903.00   \n",
       "2       ['lets', 'play', 'horror', 'game', 'walkthroug...    806.00   \n",
       "3       ['lets', 'play', 'horror', 'game', 'walkthroug...    909.00   \n",
       "4       ['lets', 'play', 'horror', 'game', 'walkthroug...    834.00   \n",
       "...                                                   ...       ...   \n",
       "139502            ['easy', 'makeup', 'beauty', 'fashion']    201.00   \n",
       "139503  ['easy', 'makeup', 'beauty', 'fashion', 'tutor...    180.00   \n",
       "139504            ['easy', 'makeup', 'beauty', 'fashion']    277.00   \n",
       "139505            ['easy', 'makeup', 'beauty', 'fashion']    174.00   \n",
       "139506                    ['makeup', 'beauty', 'fashion']    329.00   \n",
       "\n",
       "        view_count  average_rating  height   width    channel_cat  \n",
       "0       2541550.00            4.89  720.00 1280.00         Gaming  \n",
       "1       1727646.00            4.95  720.00 1280.00         Gaming  \n",
       "2       1402747.00            4.96  720.00 1280.00         Gaming  \n",
       "3       4348296.00            4.94  720.00 1280.00         Gaming  \n",
       "4       1410659.00            4.96  720.00 1280.00         Gaming  \n",
       "...            ...             ...     ...     ...            ...  \n",
       "139502   284147.00            4.61  480.00  640.00  Howto & Style  \n",
       "139503   136278.00            4.64  480.00  640.00  Howto & Style  \n",
       "139504   228384.00            4.84  480.00  640.00  Howto & Style  \n",
       "139505   247053.00            4.86  480.00  640.00  Howto & Style  \n",
       "139506   331964.00            4.46  480.00  640.00  Howto & Style  \n",
       "\n",
       "[139507 rows x 10 columns]"
      ]
     },
     "execution_count": 2,
     "metadata": {},
     "output_type": "execute_result"
    }
   ],
   "source": [
    "pd.read_csv('https://storage.googleapis.com/bia-assignment/youtube.csv')"
   ]
  },
  {
   "cell_type": "code",
   "execution_count": 3,
   "metadata": {
    "id": "NrlTbxuWpLn8"
   },
   "outputs": [
    {
     "data": {
      "text/html": [
       "<div>\n",
       "<style scoped>\n",
       "    .dataframe tbody tr th:only-of-type {\n",
       "        vertical-align: middle;\n",
       "    }\n",
       "\n",
       "    .dataframe tbody tr th {\n",
       "        vertical-align: top;\n",
       "    }\n",
       "\n",
       "    .dataframe thead th {\n",
       "        text-align: right;\n",
       "    }\n",
       "</style>\n",
       "<table border=\"1\" class=\"dataframe\">\n",
       "  <thead>\n",
       "    <tr style=\"text-align: right;\">\n",
       "      <th></th>\n",
       "      <th>channel</th>\n",
       "      <th>upload_date</th>\n",
       "      <th>title</th>\n",
       "      <th>tags</th>\n",
       "      <th>duration</th>\n",
       "      <th>view_count</th>\n",
       "      <th>average_rating</th>\n",
       "      <th>height</th>\n",
       "      <th>width</th>\n",
       "      <th>channel_cat</th>\n",
       "    </tr>\n",
       "  </thead>\n",
       "  <tbody>\n",
       "    <tr>\n",
       "      <th>101598</th>\n",
       "      <td>Hong Giang DIY Slime</td>\n",
       "      <td>2019-10-03</td>\n",
       "      <td>Mixing Random Things into Slime! Relaxing with...</td>\n",
       "      <td>[]</td>\n",
       "      <td>730.00</td>\n",
       "      <td>99632.00</td>\n",
       "      <td>4.24</td>\n",
       "      <td>1080.00</td>\n",
       "      <td>1920.00</td>\n",
       "      <td>Howto &amp; Style</td>\n",
       "    </tr>\n",
       "    <tr>\n",
       "      <th>107247</th>\n",
       "      <td>Kabita's Kitchen</td>\n",
       "      <td>2019-10-03</td>\n",
       "      <td>डिजिटल समोसा | Noodles Samosa | Chinese Samosa...</td>\n",
       "      <td>[]</td>\n",
       "      <td>628.00</td>\n",
       "      <td>65919.00</td>\n",
       "      <td>4.86</td>\n",
       "      <td>1080.00</td>\n",
       "      <td>1920.00</td>\n",
       "      <td>Howto &amp; Style</td>\n",
       "    </tr>\n",
       "    <tr>\n",
       "      <th>105473</th>\n",
       "      <td>Grandpa Kitchen</td>\n",
       "      <td>2019-10-03</td>\n",
       "      <td>Grandpa LIVE</td>\n",
       "      <td>[]</td>\n",
       "      <td>180.00</td>\n",
       "      <td>722915.00</td>\n",
       "      <td>4.96</td>\n",
       "      <td>1080.00</td>\n",
       "      <td>1920.00</td>\n",
       "      <td>Howto &amp; Style</td>\n",
       "    </tr>\n",
       "  </tbody>\n",
       "</table>\n",
       "</div>"
      ],
      "text/plain": [
       "                     channel upload_date  \\\n",
       "101598  Hong Giang DIY Slime  2019-10-03   \n",
       "107247      Kabita's Kitchen  2019-10-03   \n",
       "105473       Grandpa Kitchen  2019-10-03   \n",
       "\n",
       "                                                    title tags  duration  \\\n",
       "101598  Mixing Random Things into Slime! Relaxing with...   []    730.00   \n",
       "107247  डिजिटल समोसा | Noodles Samosa | Chinese Samosa...   []    628.00   \n",
       "105473                                       Grandpa LIVE   []    180.00   \n",
       "\n",
       "        view_count  average_rating  height   width    channel_cat  \n",
       "101598    99632.00            4.24 1080.00 1920.00  Howto & Style  \n",
       "107247    65919.00            4.86 1080.00 1920.00  Howto & Style  \n",
       "105473   722915.00            4.96 1080.00 1920.00  Howto & Style  "
      ]
     },
     "execution_count": 3,
     "metadata": {},
     "output_type": "execute_result"
    }
   ],
   "source": [
    "# Load the data\n",
    "df = pd.read_csv('https://storage.googleapis.com/bia-assignment/youtube.csv')\n",
    "\n",
    "# Visualise first 3 rows\n",
    "df.sort_values(by='upload_date', ascending=False).head(3)"
   ]
  },
  {
   "cell_type": "markdown",
   "metadata": {
    "id": "JUy85CCApovj"
   },
   "source": [
    "This Youtube dataset contains informations about multiple videos uploaded on youtube.\n",
    "- **channel** : the channel id of that has uploaded the video\n",
    "- **upload_date** : the date when the video has been uploaded on Youtube\n",
    "- **title** : the title of the video\n",
    "- **tags** : a list of tags that the author of the video has allocated to its video \n",
    "- **duration** : the duration of the video in seconds\n",
    "- **view_count** : the number of views of a video\n",
    "- **average_rating** : the average rating of the video when the metadata have been extracted\n",
    "- **height, width** : the maxinal resolution of the video\n",
    "- **channel_cat** : the category to which the channel belongs"
   ]
  },
  {
   "cell_type": "markdown",
   "metadata": {
    "id": "Af0rd8CPrg_r"
   },
   "source": [
    "### Question 1. How many observations (rows) and columns does the dataset contain?\n",
    "Print the number of rows and colums of the dataset."
   ]
  },
  {
   "cell_type": "code",
   "execution_count": 4,
   "metadata": {
    "id": "7HOzM_sJrgRM"
   },
   "outputs": [
    {
     "name": "stdout",
     "output_type": "stream",
     "text": [
      "Number of rows: \t139507\n",
      "Number of columns: \t10\n"
     ]
    }
   ],
   "source": [
    "# YOUR CODE HERE\n",
    "nb_rows = df.shape[0]\n",
    "nb_cols = df.shape[1]\n",
    "print('Number of rows: ', nb_rows, sep='\\t')\n",
    "print('Number of columns: ', nb_cols, sep='\\t')"
   ]
  },
  {
   "cell_type": "markdown",
   "metadata": {
    "id": "bUoTjOmOs5Ew"
   },
   "source": [
    "Print the number of null values in each column"
   ]
  },
  {
   "cell_type": "code",
   "execution_count": 5,
   "metadata": {
    "id": "sQ2RQJ8hakpM"
   },
   "outputs": [
    {
     "data": {
      "text/plain": [
       "channel           0\n",
       "upload_date       0\n",
       "title             0\n",
       "tags              0\n",
       "duration          0\n",
       "view_count        0\n",
       "average_rating    0\n",
       "height            0\n",
       "width             0\n",
       "channel_cat       0\n",
       "dtype: int64"
      ]
     },
     "execution_count": 5,
     "metadata": {},
     "output_type": "execute_result"
    }
   ],
   "source": [
    "df.isnull().sum()"
   ]
  },
  {
   "cell_type": "markdown",
   "metadata": {
    "id": "tJEc33y9akpM"
   },
   "source": [
    "Now please check what are the data types of the different attributes (columns)."
   ]
  },
  {
   "cell_type": "code",
   "execution_count": 6,
   "metadata": {
    "id": "y5mbuGOitC-5"
   },
   "outputs": [
    {
     "data": {
      "text/plain": [
       "channel            object\n",
       "upload_date        object\n",
       "title              object\n",
       "tags               object\n",
       "duration          float64\n",
       "view_count        float64\n",
       "average_rating    float64\n",
       "height            float64\n",
       "width             float64\n",
       "channel_cat        object\n",
       "dtype: object"
      ]
     },
     "execution_count": 6,
     "metadata": {},
     "output_type": "execute_result"
    }
   ],
   "source": [
    "df.dtypes"
   ]
  },
  {
   "cell_type": "markdown",
   "metadata": {
    "id": "zGb2GIUWtX8p"
   },
   "source": [
    "Change the data type for the following columns: upload_date.\n",
    "It should now be a date.\n",
    "\n",
    "**Hint**: make sure that days, month, year are encoded correctly. For this you can check what the date looks like before and after the encoding. "
   ]
  },
  {
   "cell_type": "code",
   "execution_count": 19,
   "metadata": {
    "id": "PpxVbbuQttyn"
   },
   "outputs": [
    {
     "name": "stdout",
     "output_type": "stream",
     "text": [
      "channel                   object\n",
      "upload_date       datetime64[ns]\n",
      "title                     object\n",
      "tags                      object\n",
      "duration                 float64\n",
      "view_count               float64\n",
      "average_rating           float64\n",
      "height                   float64\n",
      "width                    float64\n",
      "channel_cat               object\n",
      "dtype: object\n"
     ]
    }
   ],
   "source": [
    "# YOUR CODE HERE\n",
    "df['upload_date'] = pd.to_datetime(df['upload_date'], format='%Y-%m-%d')\n",
    "print(df.dtypes)"
   ]
  },
  {
   "cell_type": "markdown",
   "metadata": {
    "id": "O-tRXMTWvVBi"
   },
   "source": [
    "### Question 2. For which order period have these data samples been collected?"
   ]
  },
  {
   "cell_type": "markdown",
   "metadata": {
    "id": "PwOgds70akpO"
   },
   "source": [
    "#### Question 2.1: What is the upload date of the oldest video ? and of the most recent video ?"
   ]
  },
  {
   "cell_type": "code",
   "execution_count": 20,
   "metadata": {
    "id": "ikVQNUBzveL5"
   },
   "outputs": [
    {
     "name": "stdout",
     "output_type": "stream",
     "text": [
      "The minimum upload date is 2005-12-28 00:00:00\n",
      "The maximum upload date is 2019-10-03 00:00:00\n"
     ]
    }
   ],
   "source": [
    "# YOUR CODE HERE\n",
    "min_date = min(df['upload_date'])\n",
    "max_date = max(df['upload_date'])\n",
    "print(f\"The minimum upload date is {min_date}\")\n",
    "print(f\"The maximum upload date is {max_date}\")"
   ]
  },
  {
   "cell_type": "markdown",
   "metadata": {
    "id": "eE2zhqdBakpO"
   },
   "source": [
    "#### Question 2.2: What is the view count of the oldest video? and of the newest video?\n",
    "**Note:** In case there are multiple videos with the same upload date, you can take the one with the maximum view count."
   ]
  },
  {
   "cell_type": "code",
   "execution_count": 29,
   "metadata": {
    "id": "X-UakkXSakpO"
   },
   "outputs": [
    {
     "name": "stdout",
     "output_type": "stream",
     "text": [
      "The oldest video has 517076.0 views\n",
      "The most recent video has 722915.0 views\n"
     ]
    }
   ],
   "source": [
    "# YOUR CODE HERE\n",
    "oldest_video_view = max(df[df.upload_date == min_date].view_count)\n",
    "print(f\"The oldest video has {oldest_video_view} views\")\n",
    "\n",
    "most_recent_video_view = max(df[df.upload_date == max_date].view_count)\n",
    "print(f\"The most recent video has {most_recent_video_view} views\")"
   ]
  },
  {
   "cell_type": "markdown",
   "metadata": {
    "id": "s5icPwziwAym"
   },
   "source": [
    "### Question 3. Categories analysis"
   ]
  },
  {
   "cell_type": "markdown",
   "metadata": {
    "id": "3lz2-Mu1akpP"
   },
   "source": [
    "#### Question 3.1: What are the average view count and total view count per category (\"Gaming\" and \"Howto & Stlye\") ?\n",
    "**Hint**: Use the [`group_by()`](https://pandas.pydata.org/pandas-docs/stable/reference/api/pandas.DataFrame.groupby.html) function and refer to its documentation for examples on how to use it. The function `group_by()` is used to group the data by a certain column and is then followed by an aggregation function such as `sum()` or `mean()` which will be applied to the grouped data.\n",
    "For example, to get the average income per country, you can use the following code:\n",
    "```python\n",
    "```python\n",
    "df.groupby('country')['income'].mean()\n",
    "```\n",
    "\n",
    "Or if you want to get different statistics for different columns, you can use the following code:\n",
    "```python\n",
    "df.groupby('country').agg({'population': 'sum', 'income': ['mean', 'sdt']})\n",
    "```\n",
    "This will return a dataframe with the sum of the population and the mean and standard deviation of the average income per country."
   ]
  },
  {
   "cell_type": "code",
   "execution_count": 34,
   "metadata": {
    "id": "7IRv8Vwpwvzt"
   },
   "outputs": [
    {
     "data": {
      "text/html": [
       "<div>\n",
       "<style scoped>\n",
       "    .dataframe tbody tr th:only-of-type {\n",
       "        vertical-align: middle;\n",
       "    }\n",
       "\n",
       "    .dataframe tbody tr th {\n",
       "        vertical-align: top;\n",
       "    }\n",
       "\n",
       "    .dataframe thead tr th {\n",
       "        text-align: left;\n",
       "    }\n",
       "\n",
       "    .dataframe thead tr:last-of-type th {\n",
       "        text-align: right;\n",
       "    }\n",
       "</style>\n",
       "<table border=\"1\" class=\"dataframe\">\n",
       "  <thead>\n",
       "    <tr>\n",
       "      <th></th>\n",
       "      <th colspan=\"2\" halign=\"left\">view_count</th>\n",
       "    </tr>\n",
       "    <tr>\n",
       "      <th></th>\n",
       "      <th>mean</th>\n",
       "      <th>sum</th>\n",
       "    </tr>\n",
       "    <tr>\n",
       "      <th>channel_cat</th>\n",
       "      <th></th>\n",
       "      <th></th>\n",
       "    </tr>\n",
       "  </thead>\n",
       "  <tbody>\n",
       "    <tr>\n",
       "      <th>Gaming</th>\n",
       "      <td>1632725.35</td>\n",
       "      <td>135986429274.00</td>\n",
       "    </tr>\n",
       "    <tr>\n",
       "      <th>Howto &amp; Style</th>\n",
       "      <td>1538505.55</td>\n",
       "      <td>86493243255.00</td>\n",
       "    </tr>\n",
       "  </tbody>\n",
       "</table>\n",
       "</div>"
      ],
      "text/plain": [
       "              view_count                \n",
       "                    mean             sum\n",
       "channel_cat                             \n",
       "Gaming        1632725.35 135986429274.00\n",
       "Howto & Style 1538505.55  86493243255.00"
      ]
     },
     "execution_count": 34,
     "metadata": {},
     "output_type": "execute_result"
    }
   ],
   "source": [
    "df.groupby('channel_cat').agg({'view_count': ['mean', 'sum']})"
   ]
  },
  {
   "cell_type": "markdown",
   "metadata": {
    "id": "OzbJrqELakpP"
   },
   "source": [
    "#### Question 3.2: On one graph, plot monthly views for each channel category with a lineplot.\n",
    "**Hint:** You may want to add new columns such as month and year and then do a groupy on these two columns by for the plot. Alternatively, another option is to use the [`resample()`](https://pandas.pydata.org/pandas-docs/stable/reference/api/pandas.DataFrame.resample.html) function."
   ]
  },
  {
   "cell_type": "code",
   "execution_count": 36,
   "metadata": {
    "id": "0BtPRgzcakpQ"
   },
   "outputs": [],
   "source": [
    "# Add columns for year and month\n",
    "df[\"month\"] = df.upload_date.dt.month\n",
    "df[\"year\"] = df.upload_date.dt.year"
   ]
  },
  {
   "cell_type": "code",
   "execution_count": 58,
   "metadata": {
    "id": "AzzLYyfIakpQ"
   },
   "outputs": [
    {
     "data": {
      "text/plain": [
       "<AxesSubplot:xlabel='month'>"
      ]
     },
     "execution_count": 58,
     "metadata": {},
     "output_type": "execute_result"
    },
    {
     "data": {
      "image/png": "[encoded data removed]",
      "text/plain": [
       "<Figure size 640x480 with 1 Axes>"
      ]
     },
     "metadata": {},
     "output_type": "display_data"
    }
   ],
   "source": [
    "# Create a figure and plot the line chart of average views for the category Gaming\n",
    "Gaming_cat_grouped_by_month = df[df.channel_cat==\"Gaming\"].groupby('month').agg({'view_count': ['mean']})\n",
    "sns.lineplot(data=Gaming_cat_grouped_by_month)"
   ]
  },
  {
   "cell_type": "markdown",
   "metadata": {
    "id": "f5gSSnwUakpQ"
   },
   "source": [
    "#### Question 3.3: What is the correlation between the average monthly views of each channel category for the year 2012 ?\n",
    "__Hint :__ You may want to filter data for the year 2012 first, then get monthly average views as a time series for both channels before computing the correlation."
   ]
  },
  {
   "cell_type": "code",
   "execution_count": null,
   "metadata": {},
   "outputs": [],
   "source": []
  },
  {
   "cell_type": "markdown",
   "metadata": {
    "id": "w6-mD_F1xKzN"
   },
   "source": [
    "### Question 4. Number of tags and the average rating of the videos"
   ]
  },
  {
   "cell_type": "markdown",
   "metadata": {
    "id": "2MXPiLsDakpQ"
   },
   "source": [
    "#### Question 4.1: Add a colum to the dataframe that contains the number of tags related to this video"
   ]
  },
  {
   "cell_type": "code",
   "execution_count": null,
   "metadata": {
    "id": "sjWl_RHmakpR"
   },
   "outputs": [],
   "source": [
    "# YOUR CODE HERE"
   ]
  },
  {
   "cell_type": "markdown",
   "metadata": {
    "id": "OH2eKXjcakpR"
   },
   "source": [
    "#### Question 4.2: Compute the correlation between the number of tags and the average rating of videos"
   ]
  },
  {
   "cell_type": "code",
   "execution_count": null,
   "metadata": {
    "id": "TzRxWzRXakpR"
   },
   "outputs": [],
   "source": [
    "# YOUR CODE HERE"
   ]
  },
  {
   "cell_type": "markdown",
   "metadata": {
    "id": "4T_X5nqlakpR"
   },
   "source": [
    "#### Question 4.3: Compute the correlation between the length of the title and the average rating of videos"
   ]
  },
  {
   "cell_type": "code",
   "execution_count": null,
   "metadata": {
    "id": "dil7iu4iakpR"
   },
   "outputs": [],
   "source": [
    "# YOUR CODE HERE"
   ]
  },
  {
   "cell_type": "markdown",
   "metadata": {
    "id": "dugn_inryN-z"
   },
   "source": [
    "### Question 5. Average duration of videos"
   ]
  },
  {
   "cell_type": "markdown",
   "metadata": {
    "id": "TY2dn2JdakpR"
   },
   "source": [
    "#### Question 5.1: Compute the average duration of videos each year."
   ]
  },
  {
   "cell_type": "code",
   "execution_count": null,
   "metadata": {
    "id": "fOaZ7vujakpR"
   },
   "outputs": [],
   "source": [
    "# Compute the average duration of videos each year."
   ]
  },
  {
   "cell_type": "markdown",
   "metadata": {
    "id": "A1ruy4BuakpR"
   },
   "source": [
    "#### Question 5.2: Plot the average duration of video per year for both categories on the same plot."
   ]
  },
  {
   "cell_type": "code",
   "execution_count": null,
   "metadata": {
    "id": "lFmlIqrZzCsW"
   },
   "outputs": [],
   "source": [
    "# YOUR CODE HERE"
   ]
  },
  {
   "cell_type": "markdown",
   "metadata": {
    "id": "y6Q9dfLR2MgP"
   },
   "source": [
    "## PART II - CLASSIFICATION\n",
    "For the second part, we will use a bank related dataset.   \n",
    "The dataset contains information on a company's employees such as:\n",
    "\n",
    "* customer ID\n",
    "* customer age\n",
    "* gender\n",
    "* education level\n",
    "* marital status\n",
    "* income category\n",
    "* credit limit\n",
    "* ...\n"
   ]
  },
  {
   "cell_type": "code",
   "execution_count": null,
   "metadata": {
    "id": "mA4CCMXlakpY"
   },
   "outputs": [],
   "source": [
    "# All necessary imports\n",
    "# You should not need additonal packages for this part but you can import any package you want\n",
    "\n",
    "from sklearn.cluster import KMeans\n",
    "import pandas as pd\n",
    "import numpy as np\n",
    "import plotly.express as px\n",
    "import matplotlib.pyplot as plt\n",
    "import seaborn as sns\n",
    "\n",
    "%matplotlib inline\n",
    "sns.set_style('darkgrid')\n",
    "\n",
    "# Do not change the following line\n",
    "pd.set_option('display.float_format', lambda x: '%.2f' % x)"
   ]
  },
  {
   "cell_type": "markdown",
   "metadata": {
    "id": "CvQO4CRQakpY"
   },
   "source": [
    "### Load the data"
   ]
  },
  {
   "cell_type": "markdown",
   "metadata": {
    "id": "roEwBAj6akpY"
   },
   "source": [
    "Load the dataset in a dataframe called `df` and visualise the first 5 rows."
   ]
  },
  {
   "cell_type": "code",
   "execution_count": null,
   "metadata": {
    "id": "KG9EaI4yakpY"
   },
   "outputs": [],
   "source": [
    "# Load the data\n",
    "df = pd.read_csv('https://storage.googleapis.com/bia-assignment/bank_data.csv')\n",
    "\n",
    "df.sample(5)"
   ]
  },
  {
   "cell_type": "markdown",
   "metadata": {
    "id": "5SI44vMlakpY"
   },
   "source": [
    "### Question 1: Data Exploration"
   ]
  },
  {
   "cell_type": "markdown",
   "metadata": {
    "id": "pQIaLVBPakpZ"
   },
   "source": [
    "#### Question 1.1 Create an historgam of the Education_Level column to get a sense of the data distribution for this column. What is the most common education level of the customers?"
   ]
  },
  {
   "cell_type": "code",
   "execution_count": null,
   "metadata": {
    "id": "jqSP8nItakpZ"
   },
   "outputs": [],
   "source": [
    "# YOUR CODE HERE"
   ]
  },
  {
   "cell_type": "markdown",
   "metadata": {
    "id": "vDDK3LzzakpZ"
   },
   "source": [
    "#### Question 1.2 What is the age distribution of the people from the dataset ? Plot its distribution.\n",
    "__Hint :__ Plot histogram from the _Customer_Age_ feature."
   ]
  },
  {
   "cell_type": "code",
   "execution_count": null,
   "metadata": {
    "id": "t_nU5Np7akpZ"
   },
   "outputs": [],
   "source": [
    "# YOUR CODE HERE"
   ]
  },
  {
   "cell_type": "markdown",
   "metadata": {
    "id": "GPYxFRiNakpZ"
   },
   "source": [
    "#### Question 1.3 Does the data distribution for the Customer_Age column look to follow a normal distribution? Compute the mean, standard deviation, skewness and kurtosis of the distribution.\n",
    "__Hint :__ You may want to use the [`skew()`](https://docs.scipy.org/doc/scipy/reference/generated/scipy.stats.skew.html) function from the scipy library. For the kurtosis, you can use the [`kurtosis()`](https://docs.scipy.org/doc/scipy/reference/generated/scipy.stats.kurtosis.html) function. <br>\n",
    "If you want to test the normality of the distribution, you can use tjhe ktest function from the scipy library. For example, to test if the distribution of the Customer_Age column is normal, you can use the following code:\n",
    "```python\n",
    "from scipy.stats import kstest\n",
    "kstest(df['column_tot_test'], 'norm')\n",
    "```\n",
    "Another alternative is to use jarque_bera test from the statsmodels library. You can refer to the documentation for more information on how to use it on the following link: https://www.statsmodels.org/stable/generated/statsmodels.stats.stattools.jarque_bera.html\n",
    "\n",
    "The skewness and kurtosis of a normal distribution are respectively 0 and 3. If the skewness is between -0.5 and 0.5, the data are fairly symmetrical. If the skewness is between -1 and – 0.5 or between 0.5 and 1, the data are moderately skewed. If the skewness is less than -1 or greater than 1, the data are highly skewed. A negative skewness indicates that the tail on the left side of the distribution is longer or fatter. A positive skewness indicates that the tail on the right side is longer or fatter. The kurtosis is a measure of whether the data are heavy-tailed or light-tailed relative to a normal distribution. That is, data sets with high kurtosis tend to have heavy tails, or outliers. Data sets with low kurtosis tend to have light tails, or lack of outliers. A uniform distribution would be the extreme case."
   ]
  },
  {
   "cell_type": "code",
   "execution_count": null,
   "metadata": {
    "id": "2smzn3LsakpZ"
   },
   "outputs": [],
   "source": [
    "# YOUR CODE HERE"
   ]
  },
  {
   "cell_type": "markdown",
   "metadata": {
    "id": "kfgUQbJxakpZ"
   },
   "source": [
    "### Question 2. Convert categrocial columns to numerical\n",
    "At this point, we will change some of the values in the dataset in order be able to work with these features. <br>\n",
    "Indeed a clustering algorithm is based on distances between the data points. Therefore, we need to have numeric values instead of categorical variables.<br>\n",
    "\n",
    "For this reason, we will perform the following mapping:\n",
    "- We will map `Men` to 0 and `Female` to 1 of the column `Gender`\n",
    "- We will also convert the `Income_Category` to a numeric value, where we will assume that the higher the income, the more likely the customer is to have a credit card. You should do the following mapping:\n",
    "\n",
    "| Categorical Value (to be replaced)     | Numerical Value (new value to overwrite the categorical variable)     |\n",
    "| -----------       | -----------   |\n",
    "| 'Unknown'         |  -1           | \n",
    "| '$120K +'         |  120          | \n",
    "| '$80K - $120K'    |  80           | \n",
    "| '$60K - $80K'     | 60            |\n",
    "| '$40K - $60K'     | 40            |\n",
    "| 'Less than $40K'  | 0             | \n",
    "\n",
    "- We will also convert the `Education_Level` to a numeric value, where we will assume that the higher the education level, the more likely the customer is to have a credit card. Here again, you should respect the following convention:\n",
    "\n",
    "| Categorical Value (to be replaced)     | Numerical Value (new value to overwrite the categorical variable)     |\n",
    "| -----------       | -----------   |\n",
    "| 'Unknown'         |  -1           | \n",
    "| 'Uneducated'      |   1           | \n",
    "| 'High School'     |  2            | \n",
    "| 'College'         | 3             |\n",
    "| 'Graduate'        | 4             |\n",
    "| 'Post-Graduate'   | 5             | \n",
    "| 'Doctorate'       | 6             | \n",
    "\n",
    "**Hint :** You may want to use the [`map()`](https://pandas.pydata.org/pandas-docs/stable/reference/api/pandas.Series.map.html) function applied to a column of a dataframe."
   ]
  },
  {
   "cell_type": "code",
   "execution_count": null,
   "metadata": {
    "id": "DSV2j7rzakpZ"
   },
   "outputs": [],
   "source": [
    "# Convert categorical variables to numerical variables"
   ]
  },
  {
   "cell_type": "code",
   "execution_count": null,
   "metadata": {
    "id": "Vt6twJOmakpa"
   },
   "outputs": [],
   "source": [
    "# Here we drop all rows with missing values\n",
    "df[['Customer_Age' , 'Gender', 'Income_Category', 'Education_Level', 'Credit_Limit']].dropna(axis=0, how='any')\n",
    "# We can see that there are no missing values in the columns we are interested in as the number of rows is the same as before"
   ]
  },
  {
   "cell_type": "code",
   "execution_count": null,
   "metadata": {
    "id": "_88WtJeTakpa"
   },
   "outputs": [],
   "source": [
    "# Keep only numerical columns of the dataframe\n",
    "# These columns are the ones we are interested in as they can be used to cluster the customers\n",
    "\n",
    "df_num = df.select_dtypes(include=np.number)\n",
    "df_num"
   ]
  },
  {
   "cell_type": "markdown",
   "metadata": {
    "id": "7crN8qMUakpa"
   },
   "source": [
    "### Question 3. Use the elbow method to find the optimal number of clusters for following feartures: _Customer_Age, Gender, Income_Category, Education_Level, Credit_Limit_\n",
    "#### Question 3.1 : What is the inertia for 3 and 4 clusters ? (rounded to the nearest integer)\n",
    "Refer to the lab 5 for any help about the methodology. <br>\n",
    "__Hint:__ You should test between 2 to 10 clusters. Also, when you call the `KMeans` function, you should set the `random_state` paramter to 111 and the `n_init` to 50. This will ensure that the results are reproducible."
   ]
  },
  {
   "cell_type": "code",
   "execution_count": null,
   "metadata": {
    "id": "Z2fqY7JMakpa"
   },
   "outputs": [],
   "source": [
    "# YOU CODE HERE"
   ]
  },
  {
   "cell_type": "markdown",
   "metadata": {
    "id": "cPR2JMvpakpa"
   },
   "source": [
    "### Question 4. Use the elbow method to find the optimal number of clusters for following features: _Income_Category, Education_Level, Months_on_book_\n",
    "#### Question 4.1 : What is the optimal number of cluster for this sub dataset ?\n",
    "Refer to the lab 5 for any help about the methodology. <br>\n",
    "__Hint:__ You should test between 2 to 10 clusters. Also, when you call the `KMeans` function, you should set the `random_state` paramter to 111 and the `n_init` to 50. This will ensure that the results are reproducible."
   ]
  },
  {
   "cell_type": "code",
   "execution_count": null,
   "metadata": {
    "id": "jQ59rL8makpa"
   },
   "outputs": [],
   "source": [
    "# YOU CODE HERE"
   ]
  },
  {
   "cell_type": "markdown",
   "metadata": {
    "id": "UeIprallakpa"
   },
   "source": [
    "#### Question 4.2 : What is the cluster assignment (cluster ID - varying between 0 and the optimal number found previously) for a person with an income of 120K, a post-graduate degree and 36 months on book?"
   ]
  },
  {
   "cell_type": "code",
   "execution_count": null,
   "metadata": {
    "id": "MPObcFGPakpa"
   },
   "outputs": [],
   "source": [
    "# YOUR CODE HERE\n",
    "result = ...\n",
    "print(f\"Cluster assignment for the person described above: {result}\")"
   ]
  },
  {
   "cell_type": "markdown",
   "metadata": {
    "id": "lj5sGoy9akpb"
   },
   "source": [
    "#### Question 4.3 : Get the cluster centroid for the person described above.\n",
    "The get the centroid of a cluster, you can use the [`cluster_centers_`](https://scikit-learn.org/stable/modules/generated/sklearn.cluster.KMeans.html) attribute of the KMeans object."
   ]
  },
  {
   "cell_type": "code",
   "execution_count": null,
   "metadata": {
    "id": "Dwf1Bx_-akpb"
   },
   "outputs": [],
   "source": [
    "# YOUR CODE HERE"
   ]
  }
 ],
 "metadata": {
  "colab": {
   "provenance": []
  },
  "kernelspec": {
   "display_name": "Python 3 (ipykernel)",
   "language": "python",
   "name": "python3"
  },
  "language_info": {
   "codemirror_mode": {
    "name": "ipython",
    "version": 3
   },
   "file_extension": ".py",
   "mimetype": "text/x-python",
   "name": "python",
   "nbconvert_exporter": "python",
   "pygments_lexer": "ipython3",
   "version": "3.9.13"
  },
  "vscode": {
   "interpreter": {
    "hash": "b0cc462c96df3621bcc58e01fadcdf9264a069c5c4bbf07201077bb349d3c6bf"
   }
  }
 },
 "nbformat": 4,
 "nbformat_minor": 1
}
